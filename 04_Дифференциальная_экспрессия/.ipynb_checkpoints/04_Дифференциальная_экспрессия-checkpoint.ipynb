{
 "cells": [
  {
   "cell_type": "markdown",
   "metadata": {
    "id": "ledknR3HMzeT"
   },
   "source": [
    "# Семинар 4. Определение дифференциально экспрессированных генов. Работа с пакетами DESeq2 и edgeR."
   ]
  },
  {
   "cell_type": "markdown",
   "metadata": {
    "id": "-Ez5pou1guvz"
   },
   "source": [
    "В этом семинаре мы разберем работу с генерализованными линейными моделями для поиска дифференциально экспрессированных генов."
   ]
  },
  {
   "cell_type": "markdown",
   "metadata": {
    "id": "d7Ab7GpVPmNC"
   },
   "source": [
    "## Домашнее задание"
   ]
  },
  {
   "cell_type": "markdown",
   "metadata": {
    "id": "Ra9oNzxpW15F"
   },
   "source": [
    "Проведите аналогичный анализ с помощью DESeq2 и сравните его результаты с результатами edgeR и реализованной нами GLM (можете построить scatter plot для p-value, полученных разными методами).\n",
    "\n",
    "В чем основные различия используемых моделей и тестов?"
   ]
  },
  {
   "cell_type": "markdown",
   "metadata": {
    "id": "j4taTSlIGmgD"
   },
   "source": [
    "Для этого нужно будет:\n",
    "\n",
    "1.   Импортировать еще раз из аутпута salmon наши каунты, но теперь выгрузить в DESeq2, а не в edgeR (https://bioconductor.org/packages/release/bioc/vignettes/tximport/inst/doc/tximport.html#DESeq2)\n",
    "2.   Реализовать стандартный пайплайн DESeq2, сравнивая с тем, как это делается в edgeR (https://bioconductor.org/packages/release/bioc/vignettes/DESeq2/inst/doc/DESeq2.html)\n",
    "\n"
   ]
  },
  {
   "cell_type": "markdown",
   "metadata": {},
   "source": [
    " "
   ]
  },
  {
   "cell_type": "code",
   "execution_count": 2,
   "metadata": {},
   "outputs": [],
   "source": [
    "%load_ext rpy2.ipython"
   ]
  },
  {
   "cell_type": "code",
   "execution_count": 4,
   "metadata": {},
   "outputs": [],
   "source": [
    "%%R\n",
    "\n",
    "suppressPackageStartupMessages({\n",
    "  library(edgeR)\n",
    "  library(stringr)\n",
    "  library(dplyr)\n",
    "  library(tidyr)\n",
    "  library(tximport)\n",
    "  library(EnsDb.Mmusculus.v79)\n",
    "  library(ggplot2)\n",
    "  library(MASS)\n",
    "})"
   ]
  },
  {
   "cell_type": "markdown",
   "metadata": {},
   "source": [
    "Перевод уровня транскриптов в уровень генов посредством аггрегации (TXIMPORT)"
   ]
  },
  {
   "cell_type": "code",
   "execution_count": 5,
   "metadata": {
    "collapsed": true
   },
   "outputs": [
    {
     "name": "stderr",
     "output_type": "stream",
     "text": [
      "R[write to console]: reading in files with read.delim (install 'readr' package for speed up)\n",
      "\n",
      "R[write to console]: 1 \n",
      "R[write to console]: 2 \n",
      "R[write to console]: 3 \n",
      "R[write to console]: 4 \n",
      "R[write to console]: 5 \n",
      "R[write to console]: 6 \n",
      "R[write to console]: 7 \n",
      "R[write to console]: 8 \n",
      "R[write to console]: 9 \n",
      "R[write to console]: 10 \n",
      "R[write to console]: 11 \n",
      "R[write to console]: 12 \n",
      "R[write to console]: 13 \n",
      "R[write to console]: 14 \n",
      "R[write to console]: 15 \n",
      "R[write to console]: 16 \n",
      "R[write to console]: \n",
      "\n",
      "R[write to console]: transcripts missing from tx2gene: 43521\n",
      "\n",
      "R[write to console]: summarizing abundance\n",
      "\n",
      "R[write to console]: summarizing counts\n",
      "\n",
      "R[write to console]: summarizing length\n",
      "\n"
     ]
    }
   ],
   "source": [
    "%%R\n",
    "\n",
    "txdb <- EnsDb.Mmusculus.v79 # аннотированные омы для мышки\n",
    "tx2gene <- transcripts(txdb,return.type=\"DataFrame\")  #вытягиваем id транскриптов\n",
    "tx2gene <- tx2gene[c(\"tx_id\",\"gene_id\")] # переводим id транскриптов в id генов\n",
    "\n",
    "\n",
    "#  просто джойнит строки, нужно для названий файлов\n",
    "samples <- str_c(c(str_c(\"wt_water_\",c(1,2,3,4)),\n",
    "                   str_c(\"wt_bicarb_\",c(1,2,3,4)),\n",
    "                   str_c(\"ko_water_\",c(1,2,3,4)),\n",
    "                   str_c(\"ko_bicarb_\",c(1,2,3,4))),\".sf\")\n",
    "\n",
    "# получаем названия файлов, полученных с salmon\n",
    "files <- str_c(\"data/samples/\",samples)\n",
    "\n",
    "# переход с уровня транскриптов на уровень генов \n",
    "txi <- tximport(files, type = \"salmon\", tx2gene = tx2gene, ignoreTxVersion=T)\n",
    "\n",
    "# формирование таблицы с counts генов \n",
    "\n",
    "cts <- txi$counts"
   ]
  },
  {
   "cell_type": "markdown",
   "metadata": {},
   "source": [
    "Фильтрация только белок-кодирующих генов через BioMart"
   ]
  },
  {
   "cell_type": "code",
   "execution_count": 6,
   "metadata": {},
   "outputs": [],
   "source": [
    "%%R\n",
    "\n",
    "mart <- read.csv(\"data/mouse_mart.csv\")\n",
    "\n",
    "genetype <- mart$Gene.type[match(rownames(cts),mart$Gene.stable.ID)]\n",
    "# маска для белок-кодирующих генов\n",
    "typefilter <- genetype == \"protein_coding\"\n",
    "# убираем NA\n",
    "typefilter[is.na(typefilter)] <- FALSE\n",
    "\n",
    "# берем интересующие нас каунты\n",
    "#cts <- cts[typefilter,]\n",
    "txi$counts <- txi$counts[typefilter, ]\n",
    "txi$abundance <- txi$abundance[typefilter,]\n",
    "txi$length <- txi$length[typefilter,]"
   ]
  },
  {
   "cell_type": "markdown",
   "metadata": {},
   "source": [
    "Перевод с помощью бд ENSEMBLE ID в GENE SYMBOL (для удобства)"
   ]
  },
  {
   "cell_type": "code",
   "execution_count": 291,
   "metadata": {},
   "outputs": [
    {
     "name": "stderr",
     "output_type": "stream",
     "text": [
      "R[write to console]: 'select()' returned 1:many mapping between keys and columns\n",
      "\n"
     ]
    }
   ],
   "source": [
    "%%R\n",
    "\n",
    "require(org.Mm.eg.db)\n",
    "Symbol <- mapIds(org.Mm.eg.db, keys=rownames(cts), keytype=\"ENSEMBL\", column=\"SYMBOL\")\n",
    "rownames(cts) <- Symbol\n",
    "\n",
    "#транспонируем, чтобы гены стали колонками, а сэмплы - rows\n",
    "#cts <- data.frame(t(cts))"
   ]
  },
  {
   "cell_type": "code",
   "execution_count": 31,
   "metadata": {
    "id": "anv9_Y_jQ-tR"
   },
   "outputs": [
    {
     "name": "stderr",
     "output_type": "stream",
     "text": [
      "R[write to console]: using counts and average transcript lengths from tximport\n",
      "\n"
     ]
    }
   ],
   "source": [
    "%%R\n",
    "\n",
    "library(DESeq2)\n",
    "\n",
    "# дизайн экспериментов путем создания sampleTable, где колонка condition - наши группы\n",
    "condition <- c(rep(\"WT_Water\", 4), \n",
    "                  rep(\"WT_Bicarb\", 4),\n",
    "                  rep(\"KO_Water\", 4),\n",
    "                  rep(\"KO_Bicarb\", 4))\n",
    "\n",
    "sampleTable <- data.frame(condition = condition)\n",
    "\n",
    "dds <- DESeqDataSetFromTximport(txi, sampleTable, design = ~condition)"
   ]
  },
  {
   "cell_type": "code",
   "execution_count": 47,
   "metadata": {},
   "outputs": [
    {
     "name": "stdout",
     "output_type": "stream",
     "text": [
      "~condition\n"
     ]
    }
   ],
   "source": [
    "%%R\n",
    "\n",
    "design(dds)"
   ]
  },
  {
   "cell_type": "code",
   "execution_count": 20,
   "metadata": {},
   "outputs": [
    {
     "name": "stdout",
     "output_type": "stream",
     "text": [
      " [1] WT_Water  WT_Water  WT_Water  WT_Water  WT_Bicarb WT_Bicarb WT_Bicarb\n",
      " [8] WT_Bicarb KO_Water  KO_Water  KO_Water  KO_Water  KO_Bicarb KO_Bicarb\n",
      "[15] KO_Bicarb KO_Bicarb\n",
      "Levels: KO_Bicarb KO_Water WT_Bicarb WT_Water\n"
     ]
    }
   ],
   "source": [
    "%%R\n",
    "\n",
    "dds$condition"
   ]
  },
  {
   "cell_type": "code",
   "execution_count": 47,
   "metadata": {},
   "outputs": [
    {
     "name": "stdout",
     "output_type": "stream",
     "text": [
      "[1] \"Intercept\"                        \"condition_KO_Water_vs_KO_Bicarb\" \n",
      "[3] \"condition_WT_Bicarb_vs_KO_Bicarb\" \"condition_WT_Water_vs_KO_Bicarb\" \n"
     ]
    }
   ],
   "source": [
    "%%R\n",
    "\n",
    "resultsNames(dds)"
   ]
  },
  {
   "cell_type": "code",
   "execution_count": 76,
   "metadata": {
    "collapsed": true
   },
   "outputs": [
    {
     "name": "stderr",
     "output_type": "stream",
     "text": [
      "R[write to console]: using pre-existing normalization factors\n",
      "\n",
      "R[write to console]: estimating dispersions\n",
      "\n",
      "R[write to console]: found already estimated dispersions, replacing these\n",
      "\n",
      "R[write to console]: gene-wise dispersion estimates\n",
      "\n",
      "R[write to console]: mean-dispersion relationship\n",
      "\n",
      "R[write to console]: final dispersion estimates\n",
      "\n",
      "R[write to console]: fitting model and testing\n",
      "\n"
     ]
    }
   ],
   "source": [
    "%%R\n",
    "\n",
    "dds <- DESeq(dds, test=\"LRT\", reduced = ~1)\n",
    "\n",
    "# filtering minimum counts \n",
    "dds <- dds[rowSums(counts(dds, normalized = TRUE)) >= 100,]\n",
    "\n",
    "res_KOTreat <- results(dds, contrast=c(\"condition\", \"KO_Water\", \"KO_Bicarb\"), alpha=0.05)\n",
    "res_WTTreat <- results(dds, contrast=c(\"condition\", \"WT_Water\", \"WT_Bicarb\"), alpha=0.05)\n",
    "res_WaterKOWT <- results(dds, contrast=c(\"condition\", \"KO_Water\", \"WT_Water\"), alpha=0.05)\n",
    "res_BicarbKOWT <- results(dds, contrast=c(\"condition\", \"KO_Bicarb\", \"WT_Bicarb\"), alpha=0.05)"
   ]
  },
  {
   "cell_type": "code",
   "execution_count": 77,
   "metadata": {
    "collapsed": true
   },
   "outputs": [
    {
     "name": "stderr",
     "output_type": "stream",
     "text": [
      "R[write to console]: using 'apeglm' for LFC shrinkage. If used in published research, please cite:\n",
      "    Zhu, A., Ibrahim, J.G., Love, M.I. (2018) Heavy-tailed prior distributions for\n",
      "    sequence count data: removing the noise and preserving large differences.\n",
      "    Bioinformatics. https://doi.org/10.1093/bioinformatics/bty895\n",
      "\n"
     ]
    }
   ],
   "source": [
    "%%R\n",
    "resLFC <- lfcShrink(dds, coef=\"condition_WT_Bicarb_vs_KO_Bicarb\", type=\"apeglm\")"
   ]
  },
  {
   "cell_type": "code",
   "execution_count": 78,
   "metadata": {},
   "outputs": [
    {
     "name": "stdout",
     "output_type": "stream",
     "text": [
      "\n",
      "out of 13670 with nonzero total read count\n",
      "adjusted p-value < 0.1\n",
      "LFC > 0 (up)       : 2459, 18%\n",
      "LFC < 0 (down)     : 2544, 19%\n",
      "outliers [1]       : 27, 0.2%\n",
      "low counts [2]     : 266, 1.9%\n",
      "(mean count < 8)\n",
      "[1] see 'cooksCutoff' argument of ?results\n",
      "[2] see 'independentFiltering' argument of ?results\n",
      "\n"
     ]
    }
   ],
   "source": [
    "%%R \n",
    "\n",
    "summary(resLFC)"
   ]
  },
  {
   "cell_type": "code",
   "execution_count": 80,
   "metadata": {
    "scrolled": true
   },
   "outputs": [
    {
     "name": "stdout",
     "output_type": "stream",
     "text": [
      "\n",
      "out of 13670 with nonzero total read count\n",
      "adjusted p-value < 0.05\n",
      "LFC > 0 (up)       : 2203, 16%\n",
      "LFC < 0 (down)     : 2067, 15%\n",
      "outliers [1]       : 27, 0.2%\n",
      "low counts [2]     : 266, 1.9%\n",
      "(mean count < 8)\n",
      "[1] see 'cooksCutoff' argument of ?results\n",
      "[2] see 'independentFiltering' argument of ?results\n",
      "\n"
     ]
    }
   ],
   "source": [
    "%%R \n",
    "\n",
    "summary(res_WaterKOWT)"
   ]
  },
  {
   "cell_type": "code",
   "execution_count": 81,
   "metadata": {},
   "outputs": [
    {
     "name": "stdout",
     "output_type": "stream",
     "text": [
      "\n",
      "out of 13670 with nonzero total read count\n",
      "adjusted p-value < 0.05\n",
      "LFC > 0 (up)       : 2208, 16%\n",
      "LFC < 0 (down)     : 2061, 15%\n",
      "outliers [1]       : 27, 0.2%\n",
      "low counts [2]     : 266, 1.9%\n",
      "(mean count < 8)\n",
      "[1] see 'cooksCutoff' argument of ?results\n",
      "[2] see 'independentFiltering' argument of ?results\n",
      "\n"
     ]
    }
   ],
   "source": [
    "%%R \n",
    "\n",
    "summary(res_BicarbKOWT)"
   ]
  },
  {
   "cell_type": "code",
   "execution_count": 82,
   "metadata": {},
   "outputs": [
    {
     "name": "stdout",
     "output_type": "stream",
     "text": [
      "\n",
      "out of 13670 with nonzero total read count\n",
      "adjusted p-value < 0.05\n",
      "LFC > 0 (up)       : 2148, 16%\n",
      "LFC < 0 (down)     : 2120, 16%\n",
      "outliers [1]       : 27, 0.2%\n",
      "low counts [2]     : 266, 1.9%\n",
      "(mean count < 8)\n",
      "[1] see 'cooksCutoff' argument of ?results\n",
      "[2] see 'independentFiltering' argument of ?results\n",
      "\n"
     ]
    }
   ],
   "source": [
    "%%R\n",
    "\n",
    "summary(res_WTTreat)"
   ]
  },
  {
   "cell_type": "code",
   "execution_count": 83,
   "metadata": {},
   "outputs": [
    {
     "name": "stdout",
     "output_type": "stream",
     "text": [
      "\n",
      "out of 13670 with nonzero total read count\n",
      "adjusted p-value < 0.05\n",
      "LFC > 0 (up)       : 2423, 18%\n",
      "LFC < 0 (down)     : 1841, 13%\n",
      "outliers [1]       : 27, 0.2%\n",
      "low counts [2]     : 266, 1.9%\n",
      "(mean count < 8)\n",
      "[1] see 'cooksCutoff' argument of ?results\n",
      "[2] see 'independentFiltering' argument of ?results\n",
      "\n"
     ]
    }
   ],
   "source": [
    "%%R\n",
    "\n",
    "summary(res_KOTreat)"
   ]
  },
  {
   "cell_type": "code",
   "execution_count": 102,
   "metadata": {},
   "outputs": [
    {
     "data": {
      "image/png": "[encoded data removed]"
     },
     "metadata": {},
     "output_type": "display_data"
    }
   ],
   "source": [
    "%%R\n",
    "\n",
    "ggplot(data.frame(res_BicarbKOWT),aes(x=log2FoldChange,y=-log10(padj)))+\n",
    "  geom_point()"
   ]
  },
  {
   "cell_type": "code",
   "execution_count": 103,
   "metadata": {},
   "outputs": [
    {
     "data": {
      "image/png": "[encoded data removed]"
     },
     "metadata": {},
     "output_type": "display_data"
    }
   ],
   "source": [
    "%%R\n",
    "\n",
    "plotMA(resLFC, ylim=c(-10,10))"
   ]
  },
  {
   "cell_type": "code",
   "execution_count": 105,
   "metadata": {
    "collapsed": true
   },
   "outputs": [
    {
     "name": "stdout",
     "output_type": "stream",
     "text": [
      "log2 fold change (MLE): condition KO_Bicarb vs WT_Bicarb \n",
      "LRT p-value: '~ condition' vs '~ 1' \n",
      "DataFrame with 4270 rows and 6 columns\n",
      "                    baseMean log2FoldChange     lfcSE      stat      pvalue\n",
      "                   <numeric>      <numeric> <numeric> <numeric>   <numeric>\n",
      "ENSMUSG00000000001   786.283      -0.364920 0.0705200   62.1258 2.06518e-13\n",
      "ENSMUSG00000000056   706.899       0.310271 0.1203638   31.8764 5.55697e-07\n",
      "ENSMUSG00000000058   287.442      -0.246877 0.1401781   10.6079 1.40464e-02\n",
      "ENSMUSG00000000085   366.352       0.792408 0.1980379   42.7922 2.72420e-09\n",
      "ENSMUSG00000000149  1299.176      -0.172684 0.0701345   11.1070 1.11613e-02\n",
      "...                      ...            ...       ...       ...         ...\n",
      "ENSMUSG00000101337   21.9419       1.985783  0.502570   29.4736 1.78070e-06\n",
      "ENSMUSG00000101678   69.5712       1.696797  0.552939   12.0340 7.26749e-03\n",
      "ENSMUSG00000101892   64.8947      -0.774852  0.199750   17.5454 5.45766e-04\n",
      "ENSMUSG00000102752  308.2567       0.329581  0.109358   13.6715 3.38810e-03\n",
      "ENSMUSG00000103392   13.2782       1.927308  0.491170   22.9451 4.14611e-05\n",
      "                          padj\n",
      "                     <numeric>\n",
      "ENSMUSG00000000001 5.85295e-12\n",
      "ENSMUSG00000000056 6.06822e-06\n",
      "ENSMUSG00000000058 4.51028e-02\n",
      "ENSMUSG00000000085 4.45497e-08\n",
      "ENSMUSG00000000149 3.74479e-02\n",
      "...                        ...\n",
      "ENSMUSG00000101337 1.75926e-05\n",
      "ENSMUSG00000101678 2.62871e-02\n",
      "ENSMUSG00000101892 2.91946e-03\n",
      "ENSMUSG00000102752 1.38516e-02\n",
      "ENSMUSG00000103392 2.97386e-04\n"
     ]
    }
   ],
   "source": [
    "%%R\n",
    "\n",
    "res_BicarbKOWT[which(res_BicarbKOWT$padj <= 0.05),]"
   ]
  },
  {
   "cell_type": "code",
   "execution_count": 125,
   "metadata": {},
   "outputs": [
    {
     "name": "stdout",
     "output_type": "stream",
     "text": [
      "character(0)\n"
     ]
    },
    {
     "data": {
      "image/png": "[encoded data removed]"
     },
     "metadata": {},
     "output_type": "display_data"
    }
   ],
   "source": [
    "%%R\n",
    "\n",
    "plotMA(res_KOTreat, ylim=c(-3,3))\n",
    "#idx <- identify(res_KOTreat$baseMean, res_KOTreat$log2FoldChange)\n",
    "#rownames(res_KOTreat)[idx]"
   ]
  },
  {
   "cell_type": "code",
   "execution_count": 111,
   "metadata": {},
   "outputs": [
    {
     "name": "stderr",
     "output_type": "stream",
     "text": [
      "R[write to console]: 'select()' returned 1:many mapping between keys and columns\n",
      "\n"
     ]
    }
   ],
   "source": [
    "%%R\n",
    "\n",
    "require(org.Mm.eg.db)\n",
    "Symbol <- mapIds(org.Mm.eg.db, keys=rownames(res_BicarbKOWT), keytype=\"ENSEMBL\", column=\"SYMBOL\")\n",
    "res_BicarbKOWT$gene <- Symbol"
   ]
  },
  {
   "cell_type": "markdown",
   "metadata": {},
   "source": [
    "Получилось! И для красоты нарисую VolcanoPlot из модной либы!"
   ]
  },
  {
   "cell_type": "code",
   "execution_count": 128,
   "metadata": {},
   "outputs": [
    {
     "name": "stderr",
     "output_type": "stream",
     "text": [
      "R[write to console]: Coordinate system already present. Adding new coordinate system, which will replace the existing one.\n",
      "\n"
     ]
    },
    {
     "data": {
      "image/png": "[encoded data removed]"
     },
     "metadata": {},
     "output_type": "display_data"
    }
   ],
   "source": [
    "%%R\n",
    "\n",
    "options(repr.plot.width=10, repr.plot.height=10)\n",
    "\n",
    "\n",
    "library(EnhancedVolcano)\n",
    "\n",
    "EnhancedVolcano(res_BicarbKOWT,\n",
    "    lab = res_BicarbKOWT$gene,\n",
    "    x = 'log2FoldChange',\n",
    "    y = 'pvalue',\n",
    "    xlab = bquote(~Log[2]~ 'fold change'),\n",
    "    pCutoff = 10e-14,\n",
    "    FCcutoff = 1.0,\n",
    "    pointSize = 3.0,\n",
    "    labSize = 6.0,\n",
    "    labCol = 'black',\n",
    "    labFace = 'bold',\n",
    "    boxedLabels = TRUE,\n",
    "    parseLabels = TRUE,\n",
    "    col = c('black', 'pink', 'purple', 'red3'),\n",
    "    colAlpha = 4/5,\n",
    "    legendPosition = 'bottom',\n",
    "    legendLabSize = 14,\n",
    "    legendIconSize = 4.0,\n",
    "    drawConnectors = TRUE,\n",
    "    widthConnectors = 1.0,\n",
    "    colConnectors = 'black') + coord_flip()"
   ]
  }
 ],
 "metadata": {
  "colab": {
   "provenance": []
  },
  "kernelspec": {
   "display_name": "Python 3 (ipykernel)",
   "language": "python",
   "name": "python3"
  },
  "language_info": {
   "codemirror_mode": {
    "name": "ipython",
    "version": 3
   },
   "file_extension": ".py",
   "mimetype": "text/x-python",
   "name": "python",
   "nbconvert_exporter": "python",
   "pygments_lexer": "ipython3",
   "version": "3.8.13"
  }
 },
 "nbformat": 4,
 "nbformat_minor": 1
}
