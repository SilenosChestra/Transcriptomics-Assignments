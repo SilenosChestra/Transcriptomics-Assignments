{
 "cells": [
  {
   "cell_type": "markdown",
   "metadata": {
    "colab_type": "text",
    "id": "view-in-github"
   },
   "source": [
    "<a href=\"https://colab.research.google.com/github/serjisa/transcriptomics.msu/blob/main/%D0%A1%D0%B5%D0%BC%D0%B8%D0%BD%D0%B0%D1%80%D1%8B/09_%D0%A1%D0%BD%D0%B8%D0%B6%D0%B5%D0%BD%D0%B8%D0%B5_%D1%80%D0%B0%D0%B7%D0%BC%D0%B5%D1%80%D0%BD%D0%BE%D1%81%D1%82%D0%B8.ipynb\" target=\"_parent\"><img src=\"https://colab.research.google.com/assets/colab-badge.svg\" alt=\"Open In Colab\"/></a>"
   ]
  },
  {
   "cell_type": "markdown",
   "metadata": {
    "id": "oL23uYAgGpwu"
   },
   "source": [
    "# Семинар 9. Методы снижения размерности\n",
    "\n"
   ]
  },
  {
   "cell_type": "markdown",
   "metadata": {
    "id": "3LavnfNQ4POB"
   },
   "source": [
    "## Домашнее задание\n",
    "\n",
    "UMAP (и библиотека openTSNE) позволяют к уже существующей модели снижения размерности добавлять новые точки. Попробуйте разобраться, каким именно образом можно сохранить модель UMAP, которая используется в scanpy, чтобы использовать в дальнейшем для добавления новых клеток.\n",
    "\n",
    "Можете начать с openTSNE, однако в случае с UMAP это актуальнее. Можете рассмотреть, каким образом точки добавляются на эмбеддинг в случае с методом `sc.tl.ingest` (<a href=\"https://github.com/scverse/scanpy/blob/3d597046ac81a7f8c305cfa20594d8ecaba11fb8/scanpy/tools/_ingest.py\">ссылка на код</a>), но можете также и поступить проще, просто сохранив модель."
   ]
  },
  {
   "cell_type": "markdown",
   "metadata": {},
   "source": [
    "Цель - написать функции, которые берут какой-то внешний датасет (экспрессию клеток), перекидывает экспрессию в уже рассчитанные компоненты PCA (через линейную комбинацию генов и коэффициентов каждой из компонент PCA), а потом отправляет всё в TSNE-эмбеддинги."
   ]
  },
  {
   "cell_type": "code",
   "execution_count": 274,
   "metadata": {
    "id": "tYQv1H9B5K6J"
   },
   "outputs": [],
   "source": [
    "def openTSNE(adata):\n",
    "    from openTSNE import TSNE\n",
    "    new_adata = adata.copy()\n",
    "    tsne = TSNE(perplexity=30, exaggeration=1, verbose=True)\n",
    "    new_adata.obsm[\"X_open_tsne\"] = tsne.fit(new_adata.obsm[\"X_pca\"])\n",
    "    return new_adata"
   ]
  },
  {
   "cell_type": "code",
   "execution_count": null,
   "metadata": {},
   "outputs": [],
   "source": [
    "def add_points(adata_to_add, adata):\n",
    "    \n",
    "    # рассчитываем координаты на основе старого датасета\n",
    "    adata_to_add.obsm['X_pca'] = adata_to_add.X @ adata.varm['PCs'] \n",
    "\n",
    "    # переводим в точки X_open_tsne\n",
    "    adata_to_add.obsm['X_open_tsne'] = adata.obsm[\"X_open_tsne\"].transform(adata_to_add.obsm['X_pca']) \n",
    "\n",
    "    # конкатенируем датасеты \n",
    "    new_adata = adata.concatenate(adata_to_add)\n",
    "    \n",
    "    return new_adata"
   ]
  },
  {
   "cell_type": "markdown",
   "metadata": {},
   "source": [
    "Представим, что у нас есть такие датасеты"
   ]
  },
  {
   "cell_type": "code",
   "execution_count": 275,
   "metadata": {},
   "outputs": [],
   "source": [
    "adata = sc.datasets.pbmc3k() # основной датасет, 2700 точек\n",
    "new_points = sc.datasets.pbmc3k()[:5, :] # датасет, 5 точек из которого нужно добавить основному датасету"
   ]
  },
  {
   "cell_type": "code",
   "execution_count": 276,
   "metadata": {},
   "outputs": [
    {
     "name": "stdout",
     "output_type": "stream",
     "text": [
      "... as `zero_center=True`, sparse input is densified and may lead to large memory consumption\n",
      "computing PCA\n",
      "    with n_comps=50\n",
      "    finished (0:00:08)\n"
     ]
    }
   ],
   "source": [
    "# отшкалируем и рассчитаем PCA основной даты\n",
    "sc.pp.scale(adata)\n",
    "sc.tl.pca(adata, n_comps=50)"
   ]
  },
  {
   "cell_type": "code",
   "execution_count": 277,
   "metadata": {},
   "outputs": [
    {
     "name": "stdout",
     "output_type": "stream",
     "text": [
      "... as `zero_center=True`, sparse input is densified and may lead to large memory consumption\n"
     ]
    },
    {
     "name": "stderr",
     "output_type": "stream",
     "text": [
      "/home/silenos/anaconda3/lib/python3.8/site-packages/scanpy/preprocessing/_simple.py:843: UserWarning: Received a view of an AnnData. Making a copy.\n",
      "  view_to_actual(adata)\n"
     ]
    }
   ],
   "source": [
    "# отшкалируем наш новый датасет\n",
    "sc.pp.scale(new_points)"
   ]
  },
  {
   "cell_type": "code",
   "execution_count": 280,
   "metadata": {},
   "outputs": [
    {
     "name": "stdout",
     "output_type": "stream",
     "text": [
      "--------------------------------------------------------------------------------\n",
      "TSNE(exaggeration=1, verbose=True)\n",
      "--------------------------------------------------------------------------------\n",
      "===> Finding 90 nearest neighbors using Annoy approximate search using euclidean distance...\n",
      "   --> Time elapsed: 0.97 seconds\n",
      "===> Calculating affinity matrix...\n",
      "   --> Time elapsed: 0.08 seconds\n",
      "===> Calculating PCA-based initialization...\n",
      "   --> Time elapsed: 0.00 seconds\n",
      "===> Running optimization with exaggeration=12.00, lr=225.00 for 250 iterations...\n",
      "Iteration   50, KL divergence 3.4667, 50 iterations in 0.7843 sec\n",
      "Iteration  100, KL divergence 3.1117, 50 iterations in 0.6791 sec\n",
      "Iteration  150, KL divergence 3.0555, 50 iterations in 0.6784 sec\n",
      "Iteration  200, KL divergence 3.0363, 50 iterations in 0.6654 sec\n",
      "Iteration  250, KL divergence 3.0275, 50 iterations in 0.6430 sec\n",
      "   --> Time elapsed: 3.45 seconds\n",
      "===> Running optimization with exaggeration=1.00, lr=225.00 for 500 iterations...\n",
      "Iteration   50, KL divergence 1.7612, 50 iterations in 0.7632 sec\n",
      "Iteration  100, KL divergence 1.5541, 50 iterations in 0.7333 sec\n",
      "Iteration  150, KL divergence 1.4711, 50 iterations in 0.7058 sec\n",
      "Iteration  200, KL divergence 1.4264, 50 iterations in 0.6983 sec\n",
      "Iteration  250, KL divergence 1.3987, 50 iterations in 0.7062 sec\n",
      "Iteration  300, KL divergence 1.3804, 50 iterations in 0.6891 sec\n",
      "Iteration  350, KL divergence 1.3688, 50 iterations in 0.6965 sec\n",
      "Iteration  400, KL divergence 1.3600, 50 iterations in 0.6899 sec\n",
      "Iteration  450, KL divergence 1.3545, 50 iterations in 0.7125 sec\n",
      "Iteration  500, KL divergence 1.3509, 50 iterations in 0.6985 sec\n",
      "   --> Time elapsed: 7.09 seconds\n"
     ]
    }
   ],
   "source": [
    "# получаем координаты Open_TSNE основного датасета\n",
    "new_adata = openTSNE(adata)"
   ]
  },
  {
   "cell_type": "code",
   "execution_count": 282,
   "metadata": {},
   "outputs": [
    {
     "name": "stdout",
     "output_type": "stream",
     "text": [
      "===> Finding 15 nearest neighbors in existing embedding using Annoy approximate search...\n",
      "   --> Time elapsed: 0.00 seconds\n",
      "===> Calculating affinity matrix...\n",
      "   --> Time elapsed: 0.00 seconds\n",
      "===> Running optimization with exaggeration=4.00, lr=0.10 for 0 iterations...\n",
      "   --> Time elapsed: 0.00 seconds\n",
      "===> Running optimization with exaggeration=1.50, lr=0.10 for 250 iterations...\n",
      "Iteration   50, KL divergence 25.8180, 50 iterations in 0.0691 sec\n",
      "Iteration  100, KL divergence 25.7996, 50 iterations in 0.0560 sec\n",
      "Iteration  150, KL divergence 25.7999, 50 iterations in 0.0659 sec\n",
      "Iteration  200, KL divergence 25.7999, 50 iterations in 0.0811 sec\n",
      "Iteration  250, KL divergence 25.7999, 50 iterations in 0.0558 sec\n",
      "   --> Time elapsed: 0.33 seconds\n"
     ]
    },
    {
     "name": "stderr",
     "output_type": "stream",
     "text": [
      "/home/silenos/anaconda3/lib/python3.8/site-packages/anndata/_core/anndata.py:1785: FutureWarning: X.dtype being converted to np.float32 from float64. In the next version of anndata (0.9) conversion will not be automatic. Pass dtype explicitly to avoid this warning. Pass `AnnData(X, dtype=X.dtype, ...)` to get the future behavour.\n",
      "  [AnnData(sparse.csr_matrix(a.shape), obs=a.obs) for a in all_adatas],\n"
     ]
    }
   ],
   "source": [
    "new_adata = add_points(new_points, new_adata)"
   ]
  },
  {
   "cell_type": "code",
   "execution_count": 283,
   "metadata": {},
   "outputs": [
    {
     "data": {
      "text/plain": [
       "(2705, 2)"
      ]
     },
     "execution_count": 283,
     "metadata": {},
     "output_type": "execute_result"
    }
   ],
   "source": [
    "new_adata.obsm[\"X_open_tsne\"].shape # появились дополнительные 5 точек"
   ]
  }
 ],
 "metadata": {
  "colab": {
   "collapsed_sections": [
    "i25ThazBLmOw",
    "1IBwHf3OURaG",
    "xeInOInjW5hy",
    "IiUooYb1XHFA",
    "TxBq68yBaQZl",
    "h6N2hIsHaSmH",
    "3LavnfNQ4POB"
   ],
   "include_colab_link": true,
   "provenance": []
  },
  "kernelspec": {
   "display_name": "Python 3 (ipykernel)",
   "language": "python",
   "name": "python3"
  },
  "language_info": {
   "codemirror_mode": {
    "name": "ipython",
    "version": 3
   },
   "file_extension": ".py",
   "mimetype": "text/x-python",
   "name": "python",
   "nbconvert_exporter": "python",
   "pygments_lexer": "ipython3",
   "version": "3.8.13"
  },
  "widgets": {
   "application/vnd.jupyter.widget-state+json": {
    "018798c02a2a42048bd83944b79c6d58": {
     "model_module": "@jupyter-widgets/controls",
     "model_module_version": "1.5.0",
     "model_name": "HTMLModel",
     "state": {
      "_dom_classes": [],
      "_model_module": "@jupyter-widgets/controls",
      "_model_module_version": "1.5.0",
      "_model_name": "HTMLModel",
      "_view_count": null,
      "_view_module": "@jupyter-widgets/controls",
      "_view_module_version": "1.5.0",
      "_view_name": "HTMLView",
      "description": "",
      "description_tooltip": null,
      "layout": "IPY_MODEL_63a12af3f8e44f0a8d70ace34370e968",
      "placeholder": "​",
      "style": "IPY_MODEL_7802f80c24e24ff3aa7859238250bcfc",
      "value": "100%"
     }
    },
    "0b3b1254b12a4fb283c098c5af5c1591": {
     "model_module": "@jupyter-widgets/base",
     "model_module_version": "1.2.0",
     "model_name": "LayoutModel",
     "state": {
      "_model_module": "@jupyter-widgets/base",
      "_model_module_version": "1.2.0",
      "_model_name": "LayoutModel",
      "_view_count": null,
      "_view_module": "@jupyter-widgets/base",
      "_view_module_version": "1.2.0",
      "_view_name": "LayoutView",
      "align_content": null,
      "align_items": null,
      "align_self": null,
      "border": null,
      "bottom": null,
      "display": null,
      "flex": null,
      "flex_flow": null,
      "grid_area": null,
      "grid_auto_columns": null,
      "grid_auto_flow": null,
      "grid_auto_rows": null,
      "grid_column": null,
      "grid_gap": null,
      "grid_row": null,
      "grid_template_areas": null,
      "grid_template_columns": null,
      "grid_template_rows": null,
      "height": null,
      "justify_content": null,
      "justify_items": null,
      "left": null,
      "margin": null,
      "max_height": null,
      "max_width": null,
      "min_height": null,
      "min_width": null,
      "object_fit": null,
      "object_position": null,
      "order": null,
      "overflow": null,
      "overflow_x": null,
      "overflow_y": null,
      "padding": null,
      "right": null,
      "top": null,
      "visibility": null,
      "width": null
     }
    },
    "29c57389250640efbbe3d6fbb107d10d": {
     "model_module": "@jupyter-widgets/base",
     "model_module_version": "1.2.0",
     "model_name": "LayoutModel",
     "state": {
      "_model_module": "@jupyter-widgets/base",
      "_model_module_version": "1.2.0",
      "_model_name": "LayoutModel",
      "_view_count": null,
      "_view_module": "@jupyter-widgets/base",
      "_view_module_version": "1.2.0",
      "_view_name": "LayoutView",
      "align_content": null,
      "align_items": null,
      "align_self": null,
      "border": null,
      "bottom": null,
      "display": null,
      "flex": null,
      "flex_flow": null,
      "grid_area": null,
      "grid_auto_columns": null,
      "grid_auto_flow": null,
      "grid_auto_rows": null,
      "grid_column": null,
      "grid_gap": null,
      "grid_row": null,
      "grid_template_areas": null,
      "grid_template_columns": null,
      "grid_template_rows": null,
      "height": null,
      "justify_content": null,
      "justify_items": null,
      "left": null,
      "margin": null,
      "max_height": null,
      "max_width": null,
      "min_height": null,
      "min_width": null,
      "object_fit": null,
      "object_position": null,
      "order": null,
      "overflow": null,
      "overflow_x": null,
      "overflow_y": null,
      "padding": null,
      "right": null,
      "top": null,
      "visibility": null,
      "width": null
     }
    },
    "457f1bf14ce14a0d9b082da1f99e64fc": {
     "model_module": "@jupyter-widgets/controls",
     "model_module_version": "1.5.0",
     "model_name": "ProgressStyleModel",
     "state": {
      "_model_module": "@jupyter-widgets/controls",
      "_model_module_version": "1.5.0",
      "_model_name": "ProgressStyleModel",
      "_view_count": null,
      "_view_module": "@jupyter-widgets/base",
      "_view_module_version": "1.2.0",
      "_view_name": "StyleView",
      "bar_color": null,
      "description_width": ""
     }
    },
    "4b3762348e70480f9bc5ccefcd2887c5": {
     "model_module": "@jupyter-widgets/base",
     "model_module_version": "1.2.0",
     "model_name": "LayoutModel",
     "state": {
      "_model_module": "@jupyter-widgets/base",
      "_model_module_version": "1.2.0",
      "_model_name": "LayoutModel",
      "_view_count": null,
      "_view_module": "@jupyter-widgets/base",
      "_view_module_version": "1.2.0",
      "_view_name": "LayoutView",
      "align_content": null,
      "align_items": null,
      "align_self": null,
      "border": null,
      "bottom": null,
      "display": null,
      "flex": null,
      "flex_flow": null,
      "grid_area": null,
      "grid_auto_columns": null,
      "grid_auto_flow": null,
      "grid_auto_rows": null,
      "grid_column": null,
      "grid_gap": null,
      "grid_row": null,
      "grid_template_areas": null,
      "grid_template_columns": null,
      "grid_template_rows": null,
      "height": null,
      "justify_content": null,
      "justify_items": null,
      "left": null,
      "margin": null,
      "max_height": null,
      "max_width": null,
      "min_height": null,
      "min_width": null,
      "object_fit": null,
      "object_position": null,
      "order": null,
      "overflow": null,
      "overflow_x": null,
      "overflow_y": null,
      "padding": null,
      "right": null,
      "top": null,
      "visibility": null,
      "width": null
     }
    },
    "4d6ce854da8b415aaf776dbcdd46a0ee": {
     "model_module": "@jupyter-widgets/controls",
     "model_module_version": "1.5.0",
     "model_name": "HTMLModel",
     "state": {
      "_dom_classes": [],
      "_model_module": "@jupyter-widgets/controls",
      "_model_module_version": "1.5.0",
      "_model_name": "HTMLModel",
      "_view_count": null,
      "_view_module": "@jupyter-widgets/controls",
      "_view_module_version": "1.5.0",
      "_view_name": "HTMLView",
      "description": "",
      "description_tooltip": null,
      "layout": "IPY_MODEL_0b3b1254b12a4fb283c098c5af5c1591",
      "placeholder": "​",
      "style": "IPY_MODEL_625251f1a4a24783bc341237bda68d58",
      "value": " 5.58M/5.58M [00:01&lt;00:00, 6.51MB/s]"
     }
    },
    "51eb87dab28843d39352d98bb3f8fae2": {
     "model_module": "@jupyter-widgets/controls",
     "model_module_version": "1.5.0",
     "model_name": "FloatProgressModel",
     "state": {
      "_dom_classes": [],
      "_model_module": "@jupyter-widgets/controls",
      "_model_module_version": "1.5.0",
      "_model_name": "FloatProgressModel",
      "_view_count": null,
      "_view_module": "@jupyter-widgets/controls",
      "_view_module_version": "1.5.0",
      "_view_name": "ProgressView",
      "bar_style": "success",
      "description": "",
      "description_tooltip": null,
      "layout": "IPY_MODEL_29c57389250640efbbe3d6fbb107d10d",
      "max": 5855727,
      "min": 0,
      "orientation": "horizontal",
      "style": "IPY_MODEL_457f1bf14ce14a0d9b082da1f99e64fc",
      "value": 5855727
     }
    },
    "625251f1a4a24783bc341237bda68d58": {
     "model_module": "@jupyter-widgets/controls",
     "model_module_version": "1.5.0",
     "model_name": "DescriptionStyleModel",
     "state": {
      "_model_module": "@jupyter-widgets/controls",
      "_model_module_version": "1.5.0",
      "_model_name": "DescriptionStyleModel",
      "_view_count": null,
      "_view_module": "@jupyter-widgets/base",
      "_view_module_version": "1.2.0",
      "_view_name": "StyleView",
      "description_width": ""
     }
    },
    "63a12af3f8e44f0a8d70ace34370e968": {
     "model_module": "@jupyter-widgets/base",
     "model_module_version": "1.2.0",
     "model_name": "LayoutModel",
     "state": {
      "_model_module": "@jupyter-widgets/base",
      "_model_module_version": "1.2.0",
      "_model_name": "LayoutModel",
      "_view_count": null,
      "_view_module": "@jupyter-widgets/base",
      "_view_module_version": "1.2.0",
      "_view_name": "LayoutView",
      "align_content": null,
      "align_items": null,
      "align_self": null,
      "border": null,
      "bottom": null,
      "display": null,
      "flex": null,
      "flex_flow": null,
      "grid_area": null,
      "grid_auto_columns": null,
      "grid_auto_flow": null,
      "grid_auto_rows": null,
      "grid_column": null,
      "grid_gap": null,
      "grid_row": null,
      "grid_template_areas": null,
      "grid_template_columns": null,
      "grid_template_rows": null,
      "height": null,
      "justify_content": null,
      "justify_items": null,
      "left": null,
      "margin": null,
      "max_height": null,
      "max_width": null,
      "min_height": null,
      "min_width": null,
      "object_fit": null,
      "object_position": null,
      "order": null,
      "overflow": null,
      "overflow_x": null,
      "overflow_y": null,
      "padding": null,
      "right": null,
      "top": null,
      "visibility": null,
      "width": null
     }
    },
    "7802f80c24e24ff3aa7859238250bcfc": {
     "model_module": "@jupyter-widgets/controls",
     "model_module_version": "1.5.0",
     "model_name": "DescriptionStyleModel",
     "state": {
      "_model_module": "@jupyter-widgets/controls",
      "_model_module_version": "1.5.0",
      "_model_name": "DescriptionStyleModel",
      "_view_count": null,
      "_view_module": "@jupyter-widgets/base",
      "_view_module_version": "1.2.0",
      "_view_name": "StyleView",
      "description_width": ""
     }
    },
    "976eac77cc7d4641a1306d6b54901346": {
     "model_module": "@jupyter-widgets/controls",
     "model_module_version": "1.5.0",
     "model_name": "HBoxModel",
     "state": {
      "_dom_classes": [],
      "_model_module": "@jupyter-widgets/controls",
      "_model_module_version": "1.5.0",
      "_model_name": "HBoxModel",
      "_view_count": null,
      "_view_module": "@jupyter-widgets/controls",
      "_view_module_version": "1.5.0",
      "_view_name": "HBoxView",
      "box_style": "",
      "children": [
       "IPY_MODEL_018798c02a2a42048bd83944b79c6d58",
       "IPY_MODEL_51eb87dab28843d39352d98bb3f8fae2",
       "IPY_MODEL_4d6ce854da8b415aaf776dbcdd46a0ee"
      ],
      "layout": "IPY_MODEL_4b3762348e70480f9bc5ccefcd2887c5"
     }
    }
   }
  }
 },
 "nbformat": 4,
 "nbformat_minor": 1
}
