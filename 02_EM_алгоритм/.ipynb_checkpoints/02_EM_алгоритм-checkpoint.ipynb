{
 "cells": [
  {
   "cell_type": "markdown",
   "metadata": {
    "id": "oL23uYAgGpwu"
   },
   "source": [
    "# Семинар 2. EM-алгоритм и kallisto"
   ]
  },
  {
   "cell_type": "markdown",
   "metadata": {
    "id": "sMlLmtb_glfo"
   },
   "source": [
    "На этом семинаре мы разберём основы работы EM-алгоритма, а позже попытаемся реализовать его в контексте работы `kallisto`, а также запустим работу `kallisto` на тестовых данных."
   ]
  },
  {
   "cell_type": "markdown",
   "metadata": {
    "id": "GFNbVvRSZyvU"
   },
   "source": [
    "## Домашнее задание\n",
    "\n",
    "Сделайте NextFlow пайплайн, который будет подсчитывать принимать на вход аргументом список SRA-идентефикаторов эксперимента, а на выход давать подсчитанные экспрессии. Путь к индексу kallisto тоже будет подаваться на вход отдельно как аргумент."
   ]
  },
  {
   "cell_type": "markdown",
   "metadata": {},
   "source": [
    "Сделано!"
   ]
  },
  {
   "cell_type": "code",
   "execution_count": 1,
   "metadata": {},
   "outputs": [
    {
     "name": "stdout",
     "output_type": "stream",
     "text": [
      "params.results_dir = \"results/\"\r\n",
      "params.index_file = \"${PWD}/human_transcriptome.idx\"\r\n",
      "SRA_list = params.SRA.split(\",\")\r\n",
      "\r\n",
      "\r\n",
      "log.info \"\"\r\n",
      "log.info \"  Q U A L I T Y   C O N T R O L  \"\r\n",
      "log.info \"=================================\"\r\n",
      "log.info \"SRA number         : ${SRA_list}\"\r\n",
      "log.info \"Index file         : ${params.index_file}\"\r\n",
      "log.info \"Results location   : ${params.results_dir}\"\r\n",
      "\r\n",
      "\r\n",
      "process DownloadFastQ {\r\n",
      "\r\n",
      "  input:\r\n",
      "    val sra\r\n",
      "\r\n",
      "  output:\r\n",
      "    path \"${sra}\"\r\n",
      "\r\n",
      "  script:\r\n",
      "    \"\"\"\r\n",
      "    fasterq-dump ${sra} -o ${sra} -O ${sra}\r\n",
      "    \"\"\"\r\n",
      "}\r\n",
      "\r\n",
      "process Quant {\r\n",
      "  publishDir \"${params.results_dir}\"\r\n",
      " \r\n",
      "  input:\r\n",
      "    path x\r\n",
      "\r\n",
      "  output:\r\n",
      "    path \"${x}_expressions/*\"\r\n",
      "\r\n",
      "  script:\r\n",
      "    \"\"\"\r\n",
      "    kallisto quant -i ${params.index_file} -o ${x}_expressions/ ${x}/*.fastq\r\n",
      "    \"\"\"\r\n",
      "}\r\n",
      "\r\n",
      "\r\n",
      "workflow {\r\n",
      "  data = Channel.of( SRA_list )\r\n",
      "  DownloadFastQ(data)\r\n",
      "  Quant( DownloadFastQ.out.collect() )\r\n",
      "}\r\n",
      "\r\n"
     ]
    }
   ],
   "source": [
    "!cat RNA_exp_pipeline.nf "
   ]
  },
  {
   "cell_type": "code",
   "execution_count": null,
   "metadata": {
    "id": "PoB4l4hwZj2m"
   },
   "outputs": [],
   "source": [
    "!nextflow run RNA_exp_pipeline.nf --SRA SRR20851170"
   ]
  },
  {
   "cell_type": "code",
   "execution_count": 90,
   "metadata": {},
   "outputs": [],
   "source": [
    "results = pd.read_csv(\"results/SRR20851170_expressions/abundance.tsv\", delimiter='\\t')"
   ]
  },
  {
   "cell_type": "code",
   "execution_count": 91,
   "metadata": {},
   "outputs": [
    {
     "data": {
      "text/html": [
       "<div>\n",
       "<style scoped>\n",
       "    .dataframe tbody tr th:only-of-type {\n",
       "        vertical-align: middle;\n",
       "    }\n",
       "\n",
       "    .dataframe tbody tr th {\n",
       "        vertical-align: top;\n",
       "    }\n",
       "\n",
       "    .dataframe thead th {\n",
       "        text-align: right;\n",
       "    }\n",
       "</style>\n",
       "<table border=\"1\" class=\"dataframe\">\n",
       "  <thead>\n",
       "    <tr style=\"text-align: right;\">\n",
       "      <th></th>\n",
       "      <th>target_id</th>\n",
       "      <th>length</th>\n",
       "      <th>eff_length</th>\n",
       "      <th>est_counts</th>\n",
       "      <th>tpm</th>\n",
       "    </tr>\n",
       "  </thead>\n",
       "  <tbody>\n",
       "    <tr>\n",
       "      <th>7727</th>\n",
       "      <td>NM_001146267.2</td>\n",
       "      <td>3231</td>\n",
       "      <td>3232</td>\n",
       "      <td>0.000488</td>\n",
       "      <td>74.0383</td>\n",
       "    </tr>\n",
       "    <tr>\n",
       "      <th>38786</th>\n",
       "      <td>NM_001384574.2</td>\n",
       "      <td>4680</td>\n",
       "      <td>4681</td>\n",
       "      <td>1.000000</td>\n",
       "      <td>104802.0000</td>\n",
       "    </tr>\n",
       "    <tr>\n",
       "      <th>46812</th>\n",
       "      <td>NM_003246.4</td>\n",
       "      <td>7789</td>\n",
       "      <td>7790</td>\n",
       "      <td>0.009648</td>\n",
       "      <td>607.6090</td>\n",
       "    </tr>\n",
       "    <tr>\n",
       "      <th>64844</th>\n",
       "      <td>NR_024072.2</td>\n",
       "      <td>2692</td>\n",
       "      <td>2693</td>\n",
       "      <td>2.000000</td>\n",
       "      <td>364336.0000</td>\n",
       "    </tr>\n",
       "    <tr>\n",
       "      <th>83720</th>\n",
       "      <td>XM_005250451.3</td>\n",
       "      <td>3113</td>\n",
       "      <td>3114</td>\n",
       "      <td>0.998922</td>\n",
       "      <td>157370.0000</td>\n",
       "    </tr>\n",
       "    <tr>\n",
       "      <th>94197</th>\n",
       "      <td>XM_011521971.3</td>\n",
       "      <td>7615</td>\n",
       "      <td>7616</td>\n",
       "      <td>0.989942</td>\n",
       "      <td>63766.4000</td>\n",
       "    </tr>\n",
       "    <tr>\n",
       "      <th>94367</th>\n",
       "      <td>XM_011522462.4</td>\n",
       "      <td>5795</td>\n",
       "      <td>5796</td>\n",
       "      <td>2.000000</td>\n",
       "      <td>169282.0000</td>\n",
       "    </tr>\n",
       "    <tr>\n",
       "      <th>106782</th>\n",
       "      <td>XM_017012352.3</td>\n",
       "      <td>3228</td>\n",
       "      <td>3229</td>\n",
       "      <td>0.000590</td>\n",
       "      <td>89.6474</td>\n",
       "    </tr>\n",
       "    <tr>\n",
       "      <th>133322</th>\n",
       "      <td>XM_047432980.1</td>\n",
       "      <td>7910</td>\n",
       "      <td>7911</td>\n",
       "      <td>0.000409</td>\n",
       "      <td>25.3907</td>\n",
       "    </tr>\n",
       "    <tr>\n",
       "      <th>157528</th>\n",
       "      <td>XR_007059427.1</td>\n",
       "      <td>3512</td>\n",
       "      <td>3513</td>\n",
       "      <td>1.000000</td>\n",
       "      <td>139647.0000</td>\n",
       "    </tr>\n",
       "  </tbody>\n",
       "</table>\n",
       "</div>"
      ],
      "text/plain": [
       "             target_id  length  eff_length  est_counts          tpm\n",
       "7727    NM_001146267.2    3231        3232    0.000488      74.0383\n",
       "38786   NM_001384574.2    4680        4681    1.000000  104802.0000\n",
       "46812      NM_003246.4    7789        7790    0.009648     607.6090\n",
       "64844      NR_024072.2    2692        2693    2.000000  364336.0000\n",
       "83720   XM_005250451.3    3113        3114    0.998922  157370.0000\n",
       "94197   XM_011521971.3    7615        7616    0.989942   63766.4000\n",
       "94367   XM_011522462.4    5795        5796    2.000000  169282.0000\n",
       "106782  XM_017012352.3    3228        3229    0.000590      89.6474\n",
       "133322  XM_047432980.1    7910        7911    0.000409      25.3907\n",
       "157528  XR_007059427.1    3512        3513    1.000000  139647.0000"
      ]
     },
     "execution_count": 91,
     "metadata": {},
     "output_type": "execute_result"
    }
   ],
   "source": [
    "results[results.est_counts != 0]"
   ]
  },
  {
   "cell_type": "markdown",
   "metadata": {
    "id": "eI2uYxETyUB4"
   },
   "source": [
    "Модифицируйте EM-алгоритм таким образом, чтобы он находил не два, а три кластера на наших данных."
   ]
  },
  {
   "cell_type": "code",
   "execution_count": 79,
   "metadata": {
    "collapsed": true,
    "id": "h5p3798tyWwF"
   },
   "outputs": [
    {
     "name": "stdout",
     "output_type": "stream",
     "text": [
      "phi_A:\n",
      "0.8269889437182509 \n",
      "\n",
      "phi_B:\n",
      "0.040641458679816146 \n",
      "\n",
      "mu1:\n",
      "[ 0.72929538 -1.36531739] \n",
      "\n",
      "mu2:\n",
      "[-0.18790459  1.34837084] \n",
      "\n",
      "mu3:\n",
      "[-0.39729306  1.22837048] \n",
      "\n",
      "sigma1:\n",
      "[[ 0.1418662  -0.3574533 ]\n",
      " [-0.3574533   1.39190927]] \n",
      "\n",
      "sigma2:\n",
      "[[1.32699114 1.51960721]\n",
      " [1.51960721 4.36357783]] \n",
      "\n",
      "sigma3:\n",
      "[[ 0.37938722 -0.0019676 ]\n",
      " [-0.0019676   0.03567875]] \n",
      "\n"
     ]
    }
   ],
   "source": [
    "import numpy as np\n",
    "import seaborn as sns\n",
    "import matplotlib.pyplot as plt\n",
    "import pandas as pd\n",
    "import scipy.stats as stats\n",
    "\n",
    "# дисперсия тут задаётся 3 числами (для 2D дисперсии)\n",
    "def get_random_psd(n=2):\n",
    "    x = np.random.normal(0, 1, size=(n, n))\n",
    "    return np.dot(x, x.transpose())\n",
    "\n",
    "phi_A = np.random.uniform(0, 1)\n",
    "\n",
    "params = {\n",
    "    \"phi_A\" : phi_A, # P(A) Доля точек, принадлежащих к кластеру 1\n",
    "    \"phi_B\": np.random.uniform(0, 1-phi_A), # P(B) Доля точек, принадлежащих к кластеру 2\n",
    "    \n",
    "    \"mu1\" : np.random.normal(0, 1, size=2), # Центр распределения 1\n",
    "    \"mu2\" : np.random.normal(0, 1, size=2), # Центр распределения 2\n",
    "    \"mu3\" : np.random.normal(0, 1, size=2), # Центр распределения 3\n",
    "    \n",
    "    \"sigma1\": get_random_psd(), # У 2d Гауссианы таким образом задаётся дисперсия\n",
    "    \"sigma2\" : get_random_psd(), # У 2d Гауссианы таким образом задаётся дисперсия\n",
    "    \"sigma3\" : get_random_psd() # У 2d Гауссианы таким образом задаётся дисперсия\n",
    "}\n",
    "\n",
    "for param in params:\n",
    "    print(f\"{param}:\")\n",
    "    print(params[param], \"\\n\")"
   ]
  },
  {
   "cell_type": "code",
   "execution_count": 80,
   "metadata": {},
   "outputs": [],
   "source": [
    "from scipy.special import logsumexp\n",
    "\n",
    "X = df.values\n",
    "\n",
    "def E_step(X, params, draw=False):\n",
    "    \n",
    "  LogLikelihood = A = np.log([\n",
    "      # задаём двумерное распределение, .pdf возвратит ПРАВДОПОДОБИЕ \n",
    "      # для каждой точки, что она порождена каждым из кластеров (гауссиан)\n",
    "      stats.multivariate_normal(params[\"mu1\"], params[\"sigma1\"]).pdf(X), \n",
    "      stats.multivariate_normal(params[\"mu2\"], params[\"sigma2\"]).pdf(X),\n",
    "      stats.multivariate_normal(params[\"mu3\"], params[\"sigma3\"]).pdf(X)\n",
    "  ])\n",
    "\n",
    "  # возвратит априорные вероятности для трех кластеров\n",
    "  logPrior = B = np.log([1 - (params[\"phi_A\"] + params[\"phi_B\"]), params['phi_A'], params[\"phi_B\"]])\n",
    "\n",
    "  # LogLikelihood.T - выкидывает nx2, где строка - точка, столбцы - гауссиана 1 и 2 (likelihood точки для каждой из гауссиан)\n",
    "  # В итоге к каждой точке мы прибавляем LogPrior и получаем НЕОТНОРМИРОВАННУЮ АПОСТЕРИОРНУЮ ВЕРОЯТНОСТЬ\n",
    "  logPosterior = D = logPrior + LogLikelihood.T\n",
    "\n",
    "  # Общее правдоподобие для каждой точки х (сумма экспонент каждой точки)\n",
    "  RealSoftMax = C = logsumexp(logPosterior, axis=1)\n",
    "\n",
    "  # Нормировка каждой точки на общее правдоподобие, экспонентой мы переводим логарифмы в вероятности\n",
    "  probabilities = np.exp(logPosterior - np.array([RealSoftMax]).T)\n",
    "\n",
    "  if draw:\n",
    "    hist1 = stats.multivariate_normal(params[\"mu1\"], params[\"sigma1\"]).rvs(size=1000)\n",
    "    hist2 = stats.multivariate_normal(params[\"mu2\"], params[\"sigma2\"]).rvs(size=1000)\n",
    "    hist3 = stats.multivariate_normal(params[\"mu3\"], params[\"sigma3\"]).rvs(size=1000)\n",
    "\n",
    "    fig, axes = plt.subplots(figsize=(6, 3), dpi=150, ncols=2)\n",
    "    sns.scatterplot(x=X[:, 0], y=X[:, 1], hue=probabilities[:, 0], linewidth=0,\n",
    "                    palette=\"coolwarm\", ax=axes[1], s=3, alpha=1)\n",
    "    \n",
    "    sns.scatterplot(x=X[:, 0], y=X[:, 1], linewidth=0, ax=axes[0], s=3, alpha=1, color=\"grey\")\n",
    "    sns.kdeplot(x=hist1[:, 0], y=hist1[:, 1], ax=axes[0], cmap=\"Reds\", fill=True, alpha=0.5)\n",
    "    sns.kdeplot(x=hist2[:, 0], y=hist2[:, 1], ax=axes[0], cmap=\"Dark2\", fill=True, alpha=0.5)\n",
    "    sns.kdeplot(x=hist3[:, 0], y=hist3[:, 1], ax=axes[0], cmap=\"Greens\", fill=True, alpha=0.5)\n",
    "\n",
    "    axes[0].grid(alpha=0.3)\n",
    "    axes[1].grid(alpha=0.3)\n",
    "    axes[1].legend().remove()\n",
    "    axes[0].set_xlim(-4, 4)\n",
    "    axes[1].set_xlim(-4, 4)\n",
    "    axes[0].set_ylim(-4, 4)\n",
    "    axes[1].set_ylim(-4, 4)\n",
    "    plt.show()\n",
    "\n",
    "  # realSoftMax нам нужно для дальнейшего подсчета среднего общего правдоподобия (из всех точек)\n",
    "  # чтобы детектировать изменения в параметрах алгоритма и завершать сходимость, если изменения малы\n",
    "  return RealSoftMax, probabilities"
   ]
  },
  {
   "cell_type": "code",
   "execution_count": 81,
   "metadata": {},
   "outputs": [],
   "source": [
    "def M_step(X, params, probabilities):\n",
    "    prob_1 = probabilities[:, 0]\n",
    "    prob_2 = probabilities[:, 1]\n",
    "    prob_3 = probabilities[:, 2]\n",
    "\n",
    "    # Вычисление новых значений\n",
    "    # Пропорция = prior\n",
    "    phi_A = prob_1.sum() / len(X)\n",
    "    phi_B = prob_2.sum() / len(X)\n",
    "    phi_C = 1 - phi_A - phi_B\n",
    "\n",
    "\n",
    "    # Среднее\n",
    "    #тут мы перемножаем вектор вероятностей принадлежности каждой точки кластеру 1 на координаты каждой точки и суммируем все\n",
    "    #b1x1 + b2x2 + bnxn (как в перцептроне)\n",
    "    mu1 = prob_1.dot(X) / np.sum(prob_1)\n",
    "    mu2 = prob_2.dot(X) / np.sum(prob_2)\n",
    "    mu3 = prob_3.dot(X) / np.sum(prob_3)\n",
    "\n",
    "    # Дисперсия\n",
    "    sigma1 = (X - mu1).T.dot((X - mu1) * np.array([prob_1]).T) / np.sum(prob_1)\n",
    "    sigma2 = (X - mu2).T.dot((X - mu2) * np.array([prob_2]).T) / np.sum(prob_2)\n",
    "    sigma3 = (X - mu3).T.dot((X - mu3) * np.array([prob_3]).T) / np.sum(prob_3)\n",
    "\n",
    "\n",
    "    return {\n",
    "      \"phi_A\" : phi_A, \"phi_B\": phi_B,\n",
    "      \"mu1\" : mu1, \"mu2\" : mu2, \"mu3\" : mu3,\n",
    "      \"sigma1\": sigma1, \"sigma2\": sigma2, \"sigma3\": sigma3\n",
    "    }"
   ]
  },
  {
   "cell_type": "code",
   "execution_count": 82,
   "metadata": {},
   "outputs": [],
   "source": [
    "def run_EM(X, params, draw=False):\n",
    "    import imageio\n",
    "    avg_allprob = []\n",
    "\n",
    "    while True:\n",
    "        allprob, probabilities = E_step(X, params, draw=draw)\n",
    "        avg_allprob.append(np.mean(allprob))\n",
    "        if len(avg_allprob) > 2 and abs(avg_allprob[-1] - avg_allprob[-2]) < 0.00001:\n",
    "            break\n",
    "        params = M_step(X, params, probabilities)\n",
    "        \n",
    "    loglikelihood, probabilities = E_step(X, params)\n",
    "    forecasts = np.argmax(probabilities, axis=1)\n",
    "    return forecasts, probabilities, avg_allprob"
   ]
  },
  {
   "cell_type": "code",
   "execution_count": 83,
   "metadata": {},
   "outputs": [],
   "source": [
    "pred, prob, allprob = run_EM(X, params, draw=False)"
   ]
  },
  {
   "cell_type": "code",
   "execution_count": 84,
   "metadata": {},
   "outputs": [
    {
     "data": {
      "image/png": "[encoded data removed]",
      "text/plain": [
       "<Figure size 450x450 with 1 Axes>"
      ]
     },
     "metadata": {},
     "output_type": "display_data"
    }
   ],
   "source": [
    "fig, ax = plt.subplots(figsize=(3, 3), dpi=150)\n",
    "sns.scatterplot(x=\"x1\", y=\"x2\", data=df, s=5, linewidth=0, ax=ax, hue=pred,\n",
    "                palette={0: sns.color_palette(\"coolwarm\", n_colors=100)[-1],\n",
    "                         1: sns.color_palette(\"coolwarm\", n_colors=50)[-10],\n",
    "                         2: sns.color_palette(\"coolwarm\", n_colors=50)[4]\n",
    "                        })\n",
    "ax.grid(alpha=0.3)"
   ]
  }
 ],
 "metadata": {
  "colab": {
   "collapsed_sections": [],
   "provenance": []
  },
  "kernelspec": {
   "display_name": "Python 3 (ipykernel)",
   "language": "python",
   "name": "python3"
  },
  "language_info": {
   "codemirror_mode": {
    "name": "ipython",
    "version": 3
   },
   "file_extension": ".py",
   "mimetype": "text/x-python",
   "name": "python",
   "nbconvert_exporter": "python",
   "pygments_lexer": "ipython3",
   "version": "3.8.13"
  }
 },
 "nbformat": 4,
 "nbformat_minor": 1
}
