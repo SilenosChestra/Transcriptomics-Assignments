{
 "cells": [
  {
   "cell_type": "markdown",
   "metadata": {
    "id": "V67cia4EXH5a"
   },
   "source": [
    "# Семинар 1. Базовая работа с прочтениями\n",
    "\n",
    "На этом семинаре мы разберём, как хранятся прочтения, какие есть открытые базы данных с прочтениями, а также то, как с ними правильно работать."
   ]
  },
  {
   "cell_type": "markdown",
   "metadata": {
    "id": "-w22NmLJ54GS"
   },
   "source": [
    "## Домашнее задание\n",
    "\n",
    "Загрузите прочтения всех экспериментов из статьи <a href=\"https://www.nature.com/articles/s41598-018-23226-4\"><b>Evaluation of two main RNA-seq approaches for gene quantification in clinical RNA sequencing: polyA+ selection versus rRNA depletion</b></a>, в которой сравнивают два протокола подготовки библиотек для bulk RNA-Seq: при помощи деплеции рРНК (=<code>total</code>) или при помощи селекции polyA-транскриптов (=<code>polyA+</code>).\n",
    "\n",
    "При выполнении задания используйте Nextflow pipeline."
   ]
  },
  {
   "cell_type": "markdown",
   "metadata": {},
   "source": [
    "Сделано!"
   ]
  },
  {
   "cell_type": "code",
   "execution_count": 4,
   "metadata": {},
   "outputs": [
    {
     "name": "stdout",
     "output_type": "stream",
     "text": [
      "params.results_dir = \"results/\"\r\n",
      "SRA_list = params.SRA.split(\",\")\r\n",
      "\r\n",
      "log.info \"\"\r\n",
      "log.info \"  Q U A L I T Y   C O N T R O L  \"\r\n",
      "log.info \"=================================\"\r\n",
      "log.info \"SRA number         : ${SRA_list}\"\r\n",
      "log.info \"Results location   : ${params.results_dir}\"\r\n",
      "\r\n",
      "process DownloadFastQ {\r\n",
      "  publishDir \"${params.results_dir}\"\r\n",
      "\r\n",
      "  input:\r\n",
      "    val sra\r\n",
      "\r\n",
      "  output:\r\n",
      "    path \"${sra}/*\"\r\n",
      "\r\n",
      "  script:\r\n",
      "    \"\"\"\r\n",
      "    fasterq-dump ${sra} -o ${sra} -O ${sra}\r\n",
      "    \"\"\"\r\n",
      "}\r\n",
      "\r\n",
      "process QC {\r\n",
      "  input:\r\n",
      "    path x\r\n",
      "\r\n",
      "  output:\r\n",
      "    path \"qc/*\"\r\n",
      "\r\n",
      "  script:\r\n",
      "    \"\"\"\r\n",
      "    mkdir qc\r\n",
      "    fastqc -o qc $x\r\n",
      "    \"\"\"\r\n",
      "}\r\n",
      "\r\n",
      "process MultiQC {\r\n",
      "  publishDir \"${params.results_dir}\"\r\n",
      "\r\n",
      "  input:\r\n",
      "    path x\r\n",
      "\r\n",
      "  output:\r\n",
      "    path \"multiqc_report.html\"\r\n",
      "\r\n",
      "  script:\r\n",
      "    \"\"\"\r\n",
      "    multiqc $x\r\n",
      "    \"\"\"\r\n",
      "}\r\n",
      "\r\n",
      "workflow {\r\n",
      "  data = Channel.of( SRA_list )\r\n",
      "  DownloadFastQ(data)\r\n",
      "  QC( DownloadFastQ.out )\r\n",
      "  MultiQC( QC.out.collect() )\r\n",
      "}\r\n",
      "\r\n"
     ]
    }
   ],
   "source": [
    "!cat my_pipeline.nf"
   ]
  },
  {
   "cell_type": "code",
   "execution_count": 11,
   "metadata": {
    "id": "NYUxXcRX53bo",
    "scrolled": true
   },
   "outputs": [
    {
     "name": "stdout",
     "output_type": "stream",
     "text": [
      "N E X T F L O W  ~  version 22.04.5\n",
      "Launching `my_pipeline.nf` [desperate_tuckerman] DSL2 - revision: 585086fff6\n",
      "\n",
      "  Q U A L I T Y   C O N T R O L  \n",
      "=================================\n",
      "SRA number         : [SRR6410608, SRR6410603]\n",
      "Results location   : results/\n",
      "[-        ] process > DownloadFastQ -\u001b[K\n",
      "[-        ] process > QC            -\u001b[K\n",
      "\u001b[3A\n",
      "executor >  local (2)\u001b[K\n",
      "[59/7d3ded] process > DownloadFastQ (2) [  0%] 0 of 2\u001b[K\n",
      "[-        ] process > QC                -\u001b[K\n",
      "[-        ] process > MultiQC           -\u001b[K\n",
      "\u001b[5A\n",
      "executor >  local (2)\u001b[K\n",
      "[59/7d3ded] process > DownloadFastQ (2) [  0%] 0 of 2\u001b[K\n",
      "[-        ] process > QC                -\u001b[K\n",
      "[-        ] process > MultiQC           -\u001b[K\n",
      "\u001b[5A\n",
      "executor >  local (3)\u001b[K\n",
      "[10/b825af] process > DownloadFastQ (1) [ 50%] 1 of 2\u001b[K\n",
      "[16/47aaf2] process > QC (1)            [  0%] 0 of 1\u001b[K\n",
      "[-        ] process > MultiQC           -\u001b[K\n",
      "\u001b[5A\n",
      "executor >  local (4)\u001b[K\n",
      "[59/7d3ded] process > DownloadFastQ (2) [100%] 2 of 2 ✔\u001b[K\n",
      "[8b/19bae8] process > QC (2)            [  0%] 0 of 2\u001b[K\n",
      "[-        ] process > MultiQC           -\u001b[K\n",
      "\u001b[5A\n",
      "executor >  local (4)\u001b[K\n",
      "[59/7d3ded] process > DownloadFastQ (2) [100%] 2 of 2 ✔\u001b[K\n",
      "[8b/19bae8] process > QC (2)            [  0%] 0 of 2\u001b[K\n",
      "[-        ] process > MultiQC           -\u001b[K\n",
      "\u001b[5A\n",
      "executor >  local (4)\u001b[K\n",
      "[59/7d3ded] process > DownloadFastQ (2) [100%] 2 of 2 ✔\u001b[K\n",
      "[16/47aaf2] process > QC (1)            [ 50%] 1 of 2\u001b[K\n",
      "[-        ] process > MultiQC           -\u001b[K\n",
      "\u001b[5A\n",
      "executor >  local (5)\u001b[K\n",
      "[59/7d3ded] process > DownloadFastQ (2) [100%] 2 of 2 ✔\u001b[K\n",
      "[8b/19bae8] process > QC (2)            [100%] 2 of 2 ✔\u001b[K\n",
      "[c2/13bae3] process > MultiQC           [  0%] 0 of 1\u001b[K\n",
      "\u001b[5A\n",
      "executor >  local (5)\u001b[K\n",
      "[59/7d3ded] process > DownloadFastQ (2) [100%] 2 of 2 ✔\u001b[K\n",
      "[8b/19bae8] process > QC (2)            [100%] 2 of 2 ✔\u001b[K\n",
      "[c2/13bae3] process > MultiQC           [100%] 1 of 1 ✔\u001b[K\n",
      "\u001b[5A\n",
      "executor >  local (5)\u001b[K\n",
      "[59/7d3ded] process > DownloadFastQ (2) [100%] 2 of 2 ✔\u001b[K\n",
      "[8b/19bae8] process > QC (2)            [100%] 2 of 2 ✔\u001b[K\n",
      "[c2/13bae3] process > MultiQC           [100%] 1 of 1 ✔\u001b[K\n",
      "\u001b[32;1mCompleted at: 27-Sep-2022 15:06:51\n",
      "Duration    : 3h 20m 56s\n",
      "CPU hours   : 6.7\n",
      "Succeeded   : 5\n",
      "\u001b[22;39m\u001b[K\n",
      "\n"
     ]
    }
   ],
   "source": [
    "!nextflow run my_pipeline.nf --SRA SRR6410608,SRR6410603 -with-report nextflow_report.html -with-dag flowchart.pdf"
   ]
  }
 ],
 "metadata": {
  "colab": {
   "collapsed_sections": [],
   "provenance": []
  },
  "kernelspec": {
   "display_name": "Python 3 (ipykernel)",
   "language": "python",
   "name": "python3"
  },
  "language_info": {
   "codemirror_mode": {
    "name": "ipython",
    "version": 3
   },
   "file_extension": ".py",
   "mimetype": "text/x-python",
   "name": "python",
   "nbconvert_exporter": "python",
   "pygments_lexer": "ipython3",
   "version": "3.8.13"
  }
 },
 "nbformat": 4,
 "nbformat_minor": 1
}
