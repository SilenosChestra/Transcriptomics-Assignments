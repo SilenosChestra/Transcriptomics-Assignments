{
 "cells": [
  {
   "cell_type": "markdown",
   "metadata": {
    "id": "bfMuL9x6yw0f"
   },
   "source": [
    "# Семинар 11. Автоэнкодеры на PyTorch. Препарирование scVI"
   ]
  },
  {
   "cell_type": "markdown",
   "metadata": {
    "id": "N_VamaKpndLQ"
   },
   "source": [
    "## Домашнее задание"
   ]
  },
  {
   "cell_type": "markdown",
   "metadata": {
    "id": "Kt1MyIl4nfZL"
   },
   "source": [
    "Изучите документацию scVI: https://docs.scvi-tools.org/en/stable/api/reference/scvi.model.SCVI.html.\n",
    "\n",
    "Какие параметры модели можно регулировать? За что они отвечают? Попробуйте поменять их значения и исследуйте, как они влияют на качество коррекции батч-эффекта на использованном нами датасете.\n",
    "\n",
    "Какие параметры сильно влияют на обучение? Какие дают наилучший результат?"
   ]
  },
  {
   "cell_type": "code",
   "execution_count": null,
   "metadata": {
    "colab": {
     "base_uri": "https://localhost:8080/",
     "height": 1000
    },
    "id": "2unG9nhVchKj",
    "outputId": "5a2a13b0-6264-4508-b255-b2ab9c47bb13"
   },
   "outputs": [
    {
     "name": "stdout",
     "output_type": "stream",
     "text": [
      "Looking in indexes: https://pypi.org/simple, https://us-python.pkg.dev/colab-wheels/public/simple/\n",
      "Requirement already satisfied: torch in /usr/local/lib/python3.8/dist-packages (1.13.0+cu116)\n",
      "Requirement already satisfied: torchvision in /usr/local/lib/python3.8/dist-packages (0.14.0+cu116)\n",
      "Requirement already satisfied: typing-extensions in /usr/local/lib/python3.8/dist-packages (from torch) (4.4.0)\n",
      "Requirement already satisfied: numpy in /usr/local/lib/python3.8/dist-packages (from torchvision) (1.21.6)\n",
      "Requirement already satisfied: pillow!=8.3.*,>=5.3.0 in /usr/local/lib/python3.8/dist-packages (from torchvision) (7.1.2)\n",
      "Requirement already satisfied: requests in /usr/local/lib/python3.8/dist-packages (from torchvision) (2.23.0)\n",
      "Requirement already satisfied: idna<3,>=2.5 in /usr/local/lib/python3.8/dist-packages (from requests->torchvision) (2.10)\n",
      "Requirement already satisfied: certifi>=2017.4.17 in /usr/local/lib/python3.8/dist-packages (from requests->torchvision) (2022.9.24)\n",
      "Requirement already satisfied: chardet<4,>=3.0.2 in /usr/local/lib/python3.8/dist-packages (from requests->torchvision) (3.0.4)\n",
      "Requirement already satisfied: urllib3!=1.25.0,!=1.25.1,<1.26,>=1.21.1 in /usr/local/lib/python3.8/dist-packages (from requests->torchvision) (1.24.3)\n",
      "Looking in indexes: https://pypi.org/simple, https://us-python.pkg.dev/colab-wheels/public/simple/\n",
      "Collecting scanpy\n",
      "  Downloading scanpy-1.9.1-py3-none-any.whl (2.0 MB)\n",
      "\u001b[K     |████████████████████████████████| 2.0 MB 34.4 MB/s \n",
      "\u001b[?25hRequirement already satisfied: natsort in /usr/local/lib/python3.8/dist-packages (from scanpy) (5.5.0)\n",
      "Collecting session-info\n",
      "  Downloading session_info-1.0.0.tar.gz (24 kB)\n",
      "Collecting umap-learn>=0.3.10\n",
      "  Downloading umap-learn-0.5.3.tar.gz (88 kB)\n",
      "\u001b[K     |████████████████████████████████| 88 kB 8.8 MB/s \n",
      "\u001b[?25hRequirement already satisfied: joblib in /usr/local/lib/python3.8/dist-packages (from scanpy) (1.2.0)\n",
      "Requirement already satisfied: scipy>=1.4 in /usr/local/lib/python3.8/dist-packages (from scanpy) (1.7.3)\n",
      "Requirement already satisfied: numpy>=1.17.0 in /usr/local/lib/python3.8/dist-packages (from scanpy) (1.21.6)\n",
      "Requirement already satisfied: h5py>=3 in /usr/local/lib/python3.8/dist-packages (from scanpy) (3.1.0)\n",
      "Requirement already satisfied: numba>=0.41.0 in /usr/local/lib/python3.8/dist-packages (from scanpy) (0.56.4)\n",
      "Requirement already satisfied: packaging in /usr/local/lib/python3.8/dist-packages (from scanpy) (21.3)\n",
      "Requirement already satisfied: seaborn in /usr/local/lib/python3.8/dist-packages (from scanpy) (0.11.2)\n",
      "Collecting matplotlib>=3.4\n",
      "  Downloading matplotlib-3.6.2-cp38-cp38-manylinux_2_12_x86_64.manylinux2010_x86_64.whl (9.4 MB)\n",
      "\u001b[K     |████████████████████████████████| 9.4 MB 50.9 MB/s \n",
      "\u001b[?25hRequirement already satisfied: scikit-learn>=0.22 in /usr/local/lib/python3.8/dist-packages (from scanpy) (1.0.2)\n",
      "Requirement already satisfied: networkx>=2.3 in /usr/local/lib/python3.8/dist-packages (from scanpy) (2.8.8)\n",
      "Requirement already satisfied: statsmodels>=0.10.0rc2 in /usr/local/lib/python3.8/dist-packages (from scanpy) (0.12.2)\n",
      "Requirement already satisfied: patsy in /usr/local/lib/python3.8/dist-packages (from scanpy) (0.5.3)\n",
      "Requirement already satisfied: tqdm in /usr/local/lib/python3.8/dist-packages (from scanpy) (4.64.1)\n",
      "Collecting anndata>=0.7.4\n",
      "  Downloading anndata-0.8.0-py3-none-any.whl (96 kB)\n",
      "\u001b[K     |████████████████████████████████| 96 kB 4.9 MB/s \n",
      "\u001b[?25hRequirement already satisfied: pandas>=1.0 in /usr/local/lib/python3.8/dist-packages (from scanpy) (1.3.5)\n",
      "Collecting contourpy>=1.0.1\n",
      "  Downloading contourpy-1.0.6-cp38-cp38-manylinux_2_17_x86_64.manylinux2014_x86_64.whl (295 kB)\n",
      "\u001b[K     |████████████████████████████████| 295 kB 57.7 MB/s \n",
      "\u001b[?25hRequirement already satisfied: pyparsing>=2.2.1 in /usr/local/lib/python3.8/dist-packages (from matplotlib>=3.4->scanpy) (3.0.9)\n",
      "Collecting fonttools>=4.22.0\n",
      "  Downloading fonttools-4.38.0-py3-none-any.whl (965 kB)\n",
      "\u001b[K     |████████████████████████████████| 965 kB 49.2 MB/s \n",
      "\u001b[?25hRequirement already satisfied: kiwisolver>=1.0.1 in /usr/local/lib/python3.8/dist-packages (from matplotlib>=3.4->scanpy) (1.4.4)\n",
      "Requirement already satisfied: cycler>=0.10 in /usr/local/lib/python3.8/dist-packages (from matplotlib>=3.4->scanpy) (0.11.0)\n",
      "Requirement already satisfied: pillow>=6.2.0 in /usr/local/lib/python3.8/dist-packages (from matplotlib>=3.4->scanpy) (7.1.2)\n",
      "Requirement already satisfied: python-dateutil>=2.7 in /usr/local/lib/python3.8/dist-packages (from matplotlib>=3.4->scanpy) (2.8.2)\n",
      "Requirement already satisfied: importlib-metadata in /usr/local/lib/python3.8/dist-packages (from numba>=0.41.0->scanpy) (4.13.0)\n",
      "Requirement already satisfied: setuptools in /usr/local/lib/python3.8/dist-packages (from numba>=0.41.0->scanpy) (57.4.0)\n",
      "Requirement already satisfied: llvmlite<0.40,>=0.39.0dev0 in /usr/local/lib/python3.8/dist-packages (from numba>=0.41.0->scanpy) (0.39.1)\n",
      "Requirement already satisfied: pytz>=2017.3 in /usr/local/lib/python3.8/dist-packages (from pandas>=1.0->scanpy) (2022.6)\n",
      "Requirement already satisfied: six>=1.5 in /usr/local/lib/python3.8/dist-packages (from python-dateutil>=2.7->matplotlib>=3.4->scanpy) (1.15.0)\n",
      "Requirement already satisfied: threadpoolctl>=2.0.0 in /usr/local/lib/python3.8/dist-packages (from scikit-learn>=0.22->scanpy) (3.1.0)\n",
      "Collecting pynndescent>=0.5\n",
      "  Downloading pynndescent-0.5.8.tar.gz (1.1 MB)\n",
      "\u001b[K     |████████████████████████████████| 1.1 MB 54.0 MB/s \n",
      "\u001b[?25hRequirement already satisfied: zipp>=0.5 in /usr/local/lib/python3.8/dist-packages (from importlib-metadata->numba>=0.41.0->scanpy) (3.11.0)\n",
      "Collecting stdlib_list\n",
      "  Downloading stdlib_list-0.8.0-py3-none-any.whl (63 kB)\n",
      "\u001b[K     |████████████████████████████████| 63 kB 2.3 MB/s \n",
      "\u001b[?25hBuilding wheels for collected packages: umap-learn, pynndescent, session-info\n",
      "  Building wheel for umap-learn (setup.py) ... \u001b[?25l\u001b[?25hdone\n",
      "  Created wheel for umap-learn: filename=umap_learn-0.5.3-py3-none-any.whl size=82829 sha256=0dd593c9abba8d03940ca85cb9af4eb3ecd71899664d9dc4890c5d32b20a35d3\n",
      "  Stored in directory: /root/.cache/pip/wheels/a9/3a/67/06a8950e053725912e6a8c42c4a3a241410f6487b8402542ea\n",
      "  Building wheel for pynndescent (setup.py) ... \u001b[?25l\u001b[?25hdone\n",
      "  Created wheel for pynndescent: filename=pynndescent-0.5.8-py3-none-any.whl size=55513 sha256=df56d7d5132b7a931f6b6229d4d1739d8897de23d77c3445b72edd0276d351cf\n",
      "  Stored in directory: /root/.cache/pip/wheels/1c/63/3a/29954bca1a27ba100ed8c27973a78cb71b43dc67aed62e80c3\n",
      "  Building wheel for session-info (setup.py) ... \u001b[?25l\u001b[?25hdone\n",
      "  Created wheel for session-info: filename=session_info-1.0.0-py3-none-any.whl size=8046 sha256=f06f6b5db65680aebad846f9886dd8f59ab16f08ee2873f8e83e2be74904c0c0\n",
      "  Stored in directory: /root/.cache/pip/wheels/5c/1b/4d/111d73980c5c6a8e5e5905a19eccc34296cb359cac54c6c5b9\n",
      "Successfully built umap-learn pynndescent session-info\n",
      "Installing collected packages: fonttools, contourpy, stdlib-list, pynndescent, matplotlib, umap-learn, session-info, anndata, scanpy\n",
      "  Attempting uninstall: matplotlib\n",
      "    Found existing installation: matplotlib 3.2.2\n",
      "    Uninstalling matplotlib-3.2.2:\n",
      "      Successfully uninstalled matplotlib-3.2.2\n",
      "Successfully installed anndata-0.8.0 contourpy-1.0.6 fonttools-4.38.0 matplotlib-3.6.2 pynndescent-0.5.8 scanpy-1.9.1 session-info-1.0.0 stdlib-list-0.8.0 umap-learn-0.5.3\n"
     ]
    },
    {
     "data": {
      "application/vnd.colab-display-data+json": {
       "pip_warning": {
        "packages": [
         "matplotlib",
         "mpl_toolkits"
        ]
       }
      }
     },
     "metadata": {},
     "output_type": "display_data"
    },
    {
     "name": "stdout",
     "output_type": "stream",
     "text": [
      "\u001b[K     |████████████████████████████████| 237 kB 37.8 MB/s \n",
      "\u001b[K     |████████████████████████████████| 51 kB 867 kB/s \n",
      "\u001b[?25h\u001b[34mINFO    \u001b[0m scvi-colab: Installing scvi-tools.                                                                        \n",
      "\u001b[34mINFO    \u001b[0m scvi-colab: Install successful. Testing import.                                                           \n"
     ]
    },
    {
     "name": "stderr",
     "output_type": "stream",
     "text": [
      "INFO:pytorch_lightning.utilities.seed:Global seed set to 0\n"
     ]
    }
   ],
   "source": [
    "!pip install torch torchvision\n",
    "!pip install scanpy\n",
    "\n",
    "!pip install --quiet scvi-colab\n",
    "from scvi_colab import install\n",
    "install()\n",
    "\n",
    "import os\n",
    "os.kill(os.getpid(), 9)"
   ]
  },
  {
   "cell_type": "code",
   "execution_count": 1,
   "metadata": {
    "colab": {
     "base_uri": "https://localhost:8080/"
    },
    "executionInfo": {
     "elapsed": 6454,
     "status": "ok",
     "timestamp": 1670688634728,
     "user": {
      "displayName": "Yan Ketzer",
      "userId": "02012661814109742482"
     },
     "user_tz": -180
    },
    "id": "Ny_DwQiucqeP",
    "outputId": "0dec416a-83e3-4f6c-cac5-1ac52c53d0af"
   },
   "outputs": [
    {
     "name": "stderr",
     "output_type": "stream",
     "text": [
      "INFO:pytorch_lightning.utilities.seed:Global seed set to 0\n",
      "/usr/local/lib/python3.8/dist-packages/pytorch_lightning/utilities/warnings.py:53: LightningDeprecationWarning: pytorch_lightning.utilities.warnings.rank_zero_deprecation has been deprecated in v1.6 and will be removed in v1.8. Use the equivalent function from the pytorch_lightning.utilities.rank_zero module instead.\n",
      "  new_rank_zero_deprecation(\n",
      "/usr/local/lib/python3.8/dist-packages/pytorch_lightning/utilities/warnings.py:58: LightningDeprecationWarning: The `pytorch_lightning.loggers.base.rank_zero_experiment` is deprecated in v1.7 and will be removed in v1.9. Please use `pytorch_lightning.loggers.logger.rank_zero_experiment` instead.\n",
      "  return new_rank_zero_deprecation(*args, **kwargs)\n"
     ]
    }
   ],
   "source": [
    "import scvi\n",
    "import scanpy as sc\n",
    "import numpy as np\n",
    "\n",
    "sc.set_figure_params(figsize=(5, 5))"
   ]
  },
  {
   "cell_type": "code",
   "execution_count": 2,
   "metadata": {
    "colab": {
     "base_uri": "https://localhost:8080/"
    },
    "executionInfo": {
     "elapsed": 6799,
     "status": "ok",
     "timestamp": 1670688659895,
     "user": {
      "displayName": "Yan Ketzer",
      "userId": "02012661814109742482"
     },
     "user_tz": -180
    },
    "id": "e91PY97GncpT",
    "outputId": "5387282b-2c45-435d-ca5b-27db98d94075"
   },
   "outputs": [
    {
     "name": "stdout",
     "output_type": "stream",
     "text": [
      "--2022-12-10 16:10:52--  https://docs.google.com/uc?export=download&id=1jW548g6ERFS0t7NywgyjRs6VaE5QwXbg&confirm=t\n",
      "Resolving docs.google.com (docs.google.com)... 142.250.4.102, 142.250.4.138, 142.250.4.139, ...\n",
      "Connecting to docs.google.com (docs.google.com)|142.250.4.102|:443... connected.\n",
      "HTTP request sent, awaiting response... 303 See Other\n",
      "Location: https://doc-04-6s-docs.googleusercontent.com/docs/securesc/ha0ro937gcuc7l7deffksulhg5h7mbp1/bt7hpvij8flve5onnluthh61na3vt3l3/1670688600000/08626740090461398144/*/1jW548g6ERFS0t7NywgyjRs6VaE5QwXbg?e=download&uuid=659dd1fb-2d39-4e41-a325-f388cff0a179 [following]\n",
      "Warning: wildcards not supported in HTTP.\n",
      "--2022-12-10 16:10:54--  https://doc-04-6s-docs.googleusercontent.com/docs/securesc/ha0ro937gcuc7l7deffksulhg5h7mbp1/bt7hpvij8flve5onnluthh61na3vt3l3/1670688600000/08626740090461398144/*/1jW548g6ERFS0t7NywgyjRs6VaE5QwXbg?e=download&uuid=659dd1fb-2d39-4e41-a325-f388cff0a179\n",
      "Resolving doc-04-6s-docs.googleusercontent.com (doc-04-6s-docs.googleusercontent.com)... 172.253.118.132, 2404:6800:4003:c05::84\n",
      "Connecting to doc-04-6s-docs.googleusercontent.com (doc-04-6s-docs.googleusercontent.com)|172.253.118.132|:443... connected.\n",
      "HTTP request sent, awaiting response... 200 OK\n",
      "Length: 242964088 (232M) [application/octet-stream]\n",
      "Saving to: ‘PBMC_Satija.h5ad’\n",
      "\n",
      "PBMC_Satija.h5ad    100%[===================>] 231.71M  55.8MB/s    in 4.2s    \n",
      "\n",
      "2022-12-10 16:10:59 (55.8 MB/s) - ‘PBMC_Satija.h5ad’ saved [242964088/242964088]\n",
      "\n"
     ]
    }
   ],
   "source": [
    "#загружаем датасет\n",
    "!wget -O PBMC_Satija.h5ad --no-check-certificate \"https://docs.google.com/uc?export=download&id=1jW548g6ERFS0t7NywgyjRs6VaE5QwXbg&confirm=t\""
   ]
  },
  {
   "cell_type": "markdown",
   "metadata": {
    "id": "Mr-WAXlyWrId"
   },
   "source": [
    "Читаем датасет"
   ]
  },
  {
   "cell_type": "code",
   "execution_count": 3,
   "metadata": {
    "executionInfo": {
     "elapsed": 701,
     "status": "ok",
     "timestamp": 1670688667467,
     "user": {
      "displayName": "Yan Ketzer",
      "userId": "02012661814109742482"
     },
     "user_tz": -180
    },
    "id": "mxRkFbO3RKxd"
   },
   "outputs": [],
   "source": [
    "adata = sc.read_h5ad(\"PBMC_Satija.h5ad\")\n",
    "adata.layers[\"counts\"] = adata.X.copy()"
   ]
  },
  {
   "cell_type": "markdown",
   "metadata": {
    "id": "TZQqiyirW3ZM"
   },
   "source": [
    "Контроль дисперсии + фильтрация наиболее вариабельных генов"
   ]
  },
  {
   "cell_type": "code",
   "execution_count": 4,
   "metadata": {
    "executionInfo": {
     "elapsed": 4328,
     "status": "ok",
     "timestamp": 1670688671792,
     "user": {
      "displayName": "Yan Ketzer",
      "userId": "02012661814109742482"
     },
     "user_tz": -180
    },
    "id": "rddIjWXlRPVL"
   },
   "outputs": [],
   "source": [
    "sc.pp.filter_genes(adata, min_counts=3)\n",
    "sc.pp.normalize_total(adata, target_sum=1e4)\n",
    "sc.pp.log1p(adata)\n",
    "adata.raw = adata\n",
    "sc.pp.highly_variable_genes(\n",
    "    adata,\n",
    "    n_top_genes=1200,\n",
    "    subset=True,\n",
    "    layer=\"counts\",\n",
    "    flavor=\"seurat_v3\",\n",
    "    batch_key=\"donor\"\n",
    ")"
   ]
  },
  {
   "cell_type": "markdown",
   "metadata": {
    "id": "RtnamdAdVEJA"
   },
   "source": [
    "Создаю метрику для оценки батч-корреляции\n"
   ]
  },
  {
   "cell_type": "code",
   "execution_count": 5,
   "metadata": {
    "executionInfo": {
     "elapsed": 514,
     "status": "ok",
     "timestamp": 1670688678643,
     "user": {
      "displayName": "Yan Ketzer",
      "userId": "02012661814109742482"
     },
     "user_tz": -180
    },
    "id": "7IdTUDDeZJw8"
   },
   "outputs": [],
   "source": [
    "def loss_metric(adata, cluster_key, batch_key):\n",
    "    \n",
    "    sizes = adata.obs.groupby([batch_key, cluster_key]).size()\n",
    "    props = sizes.groupby(level=1).apply(lambda x: 100 * x / x.sum()).reset_index()\n",
    "    props = props.pivot(columns=cluster_key, index=batch_key).T\n",
    "    \n",
    "    # метрика\n",
    "    metrics = props.assign(metric=lambda x: np.abs(x['P1'] - 33.3) + np.abs(x['P2'] - 33.3) + np.abs(x['P3']) - 33.3)\n",
    "    print(\"\\nBatch correlation loss metric:\", metrics[\"metric\"].mean())\n",
    "    return metrics[\"metric\"].mean()"
   ]
  },
  {
   "cell_type": "code",
   "execution_count": 7,
   "metadata": {
    "colab": {
     "base_uri": "https://localhost:8080/",
     "height": 1000,
     "output_embedded_package_id": "1X6t4KNc3Dcr75xKRWx1MvI5tbpkVfSjJ"
    },
    "executionInfo": {
     "elapsed": 15267429,
     "status": "ok",
     "timestamp": 1670703978737,
     "user": {
      "displayName": "Yan Ketzer",
      "userId": "02012661814109742482"
     },
     "user_tz": -180
    },
    "id": "xjtUPO66RVQd",
    "outputId": "dee58452-9409-4cd2-8172-c4edb7d9717b"
   },
   "outputs": [
    {
     "data": {
      "text/plain": [
       "Output hidden; open in https://colab.research.google.com to view."
      ]
     },
     "metadata": {},
     "output_type": "display_data"
    }
   ],
   "source": [
    "import itertools\n",
    "\n",
    "scvi.model.SCVI.setup_anndata(\n",
    "    adata,\n",
    "    layer=\"counts\",\n",
    "    batch_key=\"donor\"\n",
    ")\n",
    "\n",
    "# параметры модели\n",
    "param_dict = {\"n_hidden\": [128, 256, 512],\n",
    "              \"n_latent\":[10,15, 20, 30],\n",
    "               \"dispersion\":[\"gene\", \"gene-batch\"],\n",
    "              \"n_layers\": [1, 3, 5]\n",
    "              }\n",
    "\n",
    "params_set = itertools.product(*param_dict.values())\n",
    "loss_metrics = []\n",
    "\n",
    "for param_set in params_set:\n",
    "\n",
    "  # инициализируем модель с указанными параметрами\n",
    "  model = scvi.model.SCVI(adata, n_hidden = param_set[0], \n",
    "                          n_latent = param_set[1], \n",
    "                          dispersion = param_set[2],\n",
    "                          n_layers = param_set[3])\n",
    "  \n",
    "  model.train(max_epochs=100)\n",
    "\n",
    "  latent = model.get_latent_representation()\n",
    "  adata.obsm[\"X_scVI\"] = latent\n",
    "  sc.pp.neighbors(adata, use_rep = \"X_scVI\")\n",
    "  sc.tl.leiden(adata, key_added=\"leiden_scVI\", resolution=0.5)\n",
    "  sc.tl.umap(adata)\n",
    "\n",
    "  print(\"\\n\\nModel params:\", list(zip(param_dict.keys(), param_set)))\n",
    "  sc.pl.umap(adata, color=[\"celltype.l1\", \"leiden_scVI\", \"donor\"],\n",
    "           title=[\"Cell type\", \"Clusters\", \"Batch\"], wspace=0.4, frameon=False);\n",
    "  loss_metrics.append(loss_metric(adata=adata, cluster_key=\"leiden_scVI\", batch_key=\"donor\"))\n",
    "\n",
    "  print(\"\\n\")"
   ]
  },
  {
   "cell_type": "code",
   "execution_count": 41,
   "metadata": {
    "executionInfo": {
     "elapsed": 3,
     "status": "ok",
     "timestamp": 1670704553022,
     "user": {
      "displayName": "Yan Ketzer",
      "userId": "02012661814109742482"
     },
     "user_tz": -180
    },
    "id": "VJLwubj-uFso"
   },
   "outputs": [],
   "source": [
    "results_dict = {k:v for k,v in list(zip(loss_metrics, list(params_set)))}"
   ]
  },
  {
   "cell_type": "code",
   "execution_count": 40,
   "metadata": {
    "executionInfo": {
     "elapsed": 7,
     "status": "ok",
     "timestamp": 1670704550761,
     "user": {
      "displayName": "Yan Ketzer",
      "userId": "02012661814109742482"
     },
     "user_tz": -180
    },
    "id": "L97YpO1UuWfD"
   },
   "outputs": [],
   "source": [
    "params_set = itertools.product(*param_dict.values())"
   ]
  },
  {
   "cell_type": "code",
   "execution_count": 43,
   "metadata": {
    "colab": {
     "base_uri": "https://localhost:8080/"
    },
    "executionInfo": {
     "elapsed": 521,
     "status": "ok",
     "timestamp": 1670704632718,
     "user": {
      "displayName": "Yan Ketzer",
      "userId": "02012661814109742482"
     },
     "user_tz": -180
    },
    "id": "yuNk4I6Q5d5W",
    "outputId": "544ee3b2-c43e-493f-e1bf-5f0a71ca526a"
   },
   "outputs": [
    {
     "data": {
      "text/plain": [
       "{17.123593458201768: (256, 20, 'gene', 3),\n",
       " 17.12917282577312: (512, 20, 'gene-batch', 5),\n",
       " 17.424731412144098: (256, 10, 'gene-batch', 1),\n",
       " 17.579494448124326: (512, 20, 'gene', 5),\n",
       " 17.898208034064705: (256, 15, 'gene', 5),\n",
       " 18.255344455764327: (128, 20, 'gene-batch', 3),\n",
       " 18.346185665726235: (512, 10, 'gene-batch', 5),\n",
       " 18.460420322815136: (256, 30, 'gene', 3),\n",
       " 18.49231824426264: (512, 15, 'gene', 5),\n",
       " 18.505259842107115: (512, 30, 'gene-batch', 5),\n",
       " 18.615755842055425: (512, 10, 'gene', 5),\n",
       " 18.664956440291476: (128, 30, 'gene-batch', 3),\n",
       " 18.681633844786255: (128, 15, 'gene-batch', 5),\n",
       " 18.794710373077564: (256, 10, 'gene-batch', 3),\n",
       " 18.902818409707482: (256, 30, 'gene-batch', 3),\n",
       " 18.95918623745648: (512, 10, 'gene', 3),\n",
       " 19.034456598617485: (256, 20, 'gene-batch', 3),\n",
       " 19.079869899454042: (128, 10, 'gene-batch', 5),\n",
       " 19.70102420809968: (256, 20, 'gene', 5),\n",
       " 19.82295299344182: (256, 20, 'gene-batch', 1),\n",
       " 19.85784768333275: (128, 15, 'gene', 5),\n",
       " 19.869201360165473: (256, 15, 'gene', 1),\n",
       " 19.882279309514185: (128, 30, 'gene', 5),\n",
       " 19.886021881309766: (128, 30, 'gene', 3),\n",
       " 20.088906852000814: (128, 20, 'gene-batch', 1),\n",
       " 20.17825066055854: (128, 20, 'gene', 1),\n",
       " 20.22930055711406: (128, 20, 'gene', 5),\n",
       " 20.35048537885143: (512, 20, 'gene-batch', 1),\n",
       " 20.417513320496685: (512, 20, 'gene-batch', 3),\n",
       " 20.438794963822748: (256, 15, 'gene-batch', 1),\n",
       " 20.46988005764393: (256, 10, 'gene', 3),\n",
       " 20.52839798497456: (256, 30, 'gene-batch', 5),\n",
       " 20.555371097100004: (256, 30, 'gene-batch', 1),\n",
       " 20.56478204991884: (128, 10, 'gene-batch', 3),\n",
       " 20.645137046679725: (256, 15, 'gene', 3),\n",
       " 20.67864701782908: (512, 20, 'gene', 1),\n",
       " 20.72079322743069: (512, 30, 'gene', 3),\n",
       " 20.740301686597125: (256, 20, 'gene', 1),\n",
       " 20.881383077528717: (128, 10, 'gene', 3),\n",
       " 20.94767038606393: (256, 30, 'gene', 5),\n",
       " 20.98497586962791: (128, 15, 'gene', 3),\n",
       " 20.996817830670675: (512, 15, 'gene', 3),\n",
       " 20.99866104671356: (512, 30, 'gene-batch', 1),\n",
       " 21.001610258982097: (128, 15, 'gene-batch', 3),\n",
       " 21.055160864453615: (128, 15, 'gene-batch', 1),\n",
       " 21.0659934980465: (128, 30, 'gene-batch', 1),\n",
       " 21.08003727481: (256, 15, 'gene-batch', 3),\n",
       " 21.143355225734773: (256, 20, 'gene-batch', 5),\n",
       " 21.203224395621806: (512, 30, 'gene', 1),\n",
       " 21.214016376377238: (512, 10, 'gene-batch', 3),\n",
       " 21.226121087793288: (256, 10, 'gene', 5),\n",
       " 21.32077834986472: (512, 30, 'gene', 5),\n",
       " 21.322293113503136: (128, 15, 'gene', 1),\n",
       " 21.36382194235345: (512, 15, 'gene-batch', 5),\n",
       " 21.369893772645867: (256, 10, 'gene-batch', 5),\n",
       " 21.398989637158966: (512, 15, 'gene-batch', 3),\n",
       " 21.468030682376398: (128, 30, 'gene-batch', 5),\n",
       " 21.4893398660362: (128, 20, 'gene-batch', 5),\n",
       " 21.49481148646832: (256, 30, 'gene', 1),\n",
       " 21.58578476220691: (128, 10, 'gene-batch', 1),\n",
       " 21.74378015849688: (128, 10, 'gene', 1),\n",
       " 21.750540849363073: (512, 15, 'gene-batch', 1),\n",
       " 21.945712108851254: (512, 10, 'gene-batch', 1),\n",
       " 22.230944707816793: (512, 30, 'gene-batch', 3),\n",
       " 22.503459130743963: (256, 10, 'gene', 1),\n",
       " 22.65463881109607: (128, 20, 'gene', 3),\n",
       " 22.818151879660295: (512, 15, 'gene', 1),\n",
       " 22.864568022491: (512, 10, 'gene', 1),\n",
       " 23.263637332791816: (128, 10, 'gene', 5),\n",
       " 23.39169149696689: (256, 15, 'gene-batch', 5),\n",
       " 23.825593147422527: (512, 20, 'gene', 3),\n",
       " 24.863803683421214: (128, 30, 'gene', 1)}"
      ]
     },
     "execution_count": 43,
     "metadata": {},
     "output_type": "execute_result"
    }
   ],
   "source": [
    "dict(sorted(results_dict.items()))"
   ]
  },
  {
   "cell_type": "markdown",
   "metadata": {
    "id": "rqQOt3QewhaW"
   },
   "source": [
    "Так, мы видим, что самый низкий коэффициент ошибки у автоэнкодера с параметрами 256 нейронов в скрытом слое, с латентным пространством = 20, параметром дисперсии в гене (а не в гене по батчу), и 3 скрытыми слоями. Немного контринтуитивно, что принцип \"чем больше слоёв/нейронов, тем лучше\" не сработал, но результаты есть результаты :)"
   ]
  }
 ],
 "metadata": {
  "accelerator": "GPU",
  "colab": {
   "collapsed_sections": [
    "5D3Ne046iGXO",
    "iT-wbcOMiKF_",
    "SRI9yi60jLMz",
    "_na3JLQmk7Er",
    "GysV4VFTKHqQ",
    "jJrGpXMLUAlX"
   ],
   "provenance": [
    {
     "file_id": "https://github.com/serjisa/transcriptomics.msu/blob/main/%D0%A1%D0%B5%D0%BC%D0%B8%D0%BD%D0%B0%D1%80%D1%8B/11_%D0%92%D0%B0%D1%80%D0%B8%D0%B0%D1%86%D0%B8%D0%BE%D0%BD%D0%BD%D1%8B%D0%B5_%D0%B0%D0%B2%D1%82%D0%BE%D1%8D%D0%BD%D0%BA%D0%BE%D0%B4%D0%B5%D1%80%D1%8B.ipynb",
     "timestamp": 1670414293267
    }
   ]
  },
  "gpuClass": "standard",
  "kernelspec": {
   "display_name": "Python 3 (ipykernel)",
   "language": "python",
   "name": "python3"
  },
  "language_info": {
   "codemirror_mode": {
    "name": "ipython",
    "version": 3
   },
   "file_extension": ".py",
   "mimetype": "text/x-python",
   "name": "python",
   "nbconvert_exporter": "python",
   "pygments_lexer": "ipython3",
   "version": "3.8.13"
  }
 },
 "nbformat": 4,
 "nbformat_minor": 1
}
