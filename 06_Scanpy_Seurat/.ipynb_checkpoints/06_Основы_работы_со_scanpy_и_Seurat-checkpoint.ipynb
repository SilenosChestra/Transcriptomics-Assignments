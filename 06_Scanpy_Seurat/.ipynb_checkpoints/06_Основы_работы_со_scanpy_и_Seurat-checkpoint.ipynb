{
 "cells": [
  {
   "cell_type": "markdown",
   "metadata": {
    "id": "oL23uYAgGpwu"
   },
   "source": [
    "# Семинар 6. Основы работы с библиотеками scanpy и Seurat\n",
    "\n",
    "Это практикум с анализом данных scRNA-Seq. Он основан на пакете scanpy для Python 3 и Seurat для R версии 4 и больше."
   ]
  },
  {
   "cell_type": "markdown",
   "metadata": {
    "id": "TR6okaf89F4Q"
   },
   "source": [
    "## Домашнее задание\n",
    "\n",
    "Сделайте несколько вспомогательных функций, которые вам позднее пригодятся:\n",
    "1. Разбиение одного объекта AnnData на список других, соответствующих каждому индивидуальному батчу;\n",
    "2. Создание нового объекта со случайными N клетками и M генами из изначального;\n",
    "3. Сохранение вашего AnnData-объекта как Seurat-объекта в формате `.rds`."
   ]
  },
  {
   "cell_type": "code",
   "execution_count": 1,
   "metadata": {
    "colab": {
     "base_uri": "https://localhost:8080/"
    },
    "collapsed": true,
    "id": "TXIz0MZH9ztj",
    "outputId": "460e2072-80cc-4dbb-f33d-7245b250dc02"
   },
   "outputs": [
    {
     "name": "stderr",
     "output_type": "stream",
     "text": [
      "/tmp/ipykernel_814709/4206433042.py:10: ImplicitModificationWarning: Trying to modify attribute `.obs` of view, initializing view as actual.\n",
      "  adata.obs['batch'] = [\"1\"] * 1000 + [\"2\"] * 1944\n"
     ]
    }
   ],
   "source": [
    "import scanpy as sc\n",
    "import numpy as np\n",
    "import anndata2ri\n",
    "anndata2ri.activate()\n",
    "%load_ext rpy2.ipython\n",
    "\n",
    "adata = sc.read_10x_mtx(\"filtered_feature_bc_matrix\") # Эта функция позволяет быстро прочитать аутпут программы Cell Ranger\n",
    "adata = adata[:, (adata.X > 0).sum(axis=0).A[0] > 3] #гены, которые экспрессируются в >3 клетках\n",
    "adata = adata[adata.X.sum(axis=1) > 10000] #клетки, в которых суммарная экспрессия > 10000 молекул\n",
    "adata.obs['batch'] = [\"1\"] * 1000 + [\"2\"] * 1944"
   ]
  },
  {
   "cell_type": "code",
   "execution_count": 29,
   "metadata": {},
   "outputs": [],
   "source": [
    "# 1-ая функция\n",
    "def split_adata(adata):\n",
    "    adata_dict = {i:adata[adata.obs.batch == i] for i in adata.obs.batch.unique()}\n",
    "    return adata_dict"
   ]
  },
  {
   "cell_type": "code",
   "execution_count": 115,
   "metadata": {},
   "outputs": [],
   "source": [
    "# 2-ая функция\n",
    "def random_adata(adata, N, M):\n",
    "    if isinstance(adata, sc.AnnData):\n",
    "        adata_new = adata[np.random.choice(adata.shape[0]+1, size=N), :] # N клеток\n",
    "        adata_new = adata_new[:, np.random.choice(adata_new.shape[1]+1, size=M)] # M генов\n",
    "        return adata_new\n",
    "    else: \n",
    "        raise TypeError('Not AnnData datatype')"
   ]
  },
  {
   "cell_type": "code",
   "execution_count": 6,
   "metadata": {},
   "outputs": [],
   "source": [
    "# 3-яя функция\n",
    "def save_as_seurat(adata, path='./'):\n",
    "    import rpy2.robjects as ro\n",
    "    ro.r(\"library(Seurat)\")\n",
    "    ro.globalenv['adata_raw'], ro.globalenv['path'] = adata, path \n",
    "    ro.r(\"adata_to_seurat <- as.Seurat(adata_raw, data = NULL, counts = 'X')\")\n",
    "    ro.r(\"saveRDS(adata_to_seurat, paste(path,'SeuratObj.rds',sep=''))\")"
   ]
  }
 ],
 "metadata": {
  "colab": {
   "collapsed_sections": [
    "LPH5QQ9Y8ASP",
    "MD1dmMjE8D_N",
    "XSkODBDJg_Kp",
    "TR6okaf89F4Q"
   ],
   "provenance": []
  },
  "kernelspec": {
   "display_name": "Python 3 (ipykernel)",
   "language": "python",
   "name": "python3"
  },
  "language_info": {
   "codemirror_mode": {
    "name": "ipython",
    "version": 3
   },
   "file_extension": ".py",
   "mimetype": "text/x-python",
   "name": "python",
   "nbconvert_exporter": "python",
   "pygments_lexer": "ipython3",
   "version": "3.8.13"
  }
 },
 "nbformat": 4,
 "nbformat_minor": 1
}
